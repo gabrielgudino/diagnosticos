{
 "cells": [
  {
   "cell_type": "markdown",
   "id": "9d85069a",
   "metadata": {},
   "source": [
    "# Capitulo 3. Clasificación"
   ]
  },
  {
   "cell_type": "markdown",
   "id": "f28483b2",
   "metadata": {},
   "source": [
    "Proyecto de clasificación, para diagnosticar medicamenttos basándose en las caracteristicas de los pacientes."
   ]
  },
  {
   "cell_type": "markdown",
   "id": "0f1b7738",
   "metadata": {},
   "source": [
    "## <span style=\"color:green\">1. Descargar los datos 📉</span>\n",
    "\n",
    "EN ESTE PROYECTO SOLO VAMOS A NECESITAR LA BASE DE DATOS drug300.csv.💊\n",
    "\n",
    "https://github.com/a2Proyectos/MachineLearning_Data\n",
    "\n"
   ]
  },
  {
   "cell_type": "code",
   "execution_count": 1,
   "id": "9778512d",
   "metadata": {},
   "outputs": [],
   "source": [
    "# Importa las librerias <3 \n",
    "import pandas as pd\n",
    "import numpy as np\n",
    "import matplotlib.pyplot as plt\n",
    "import seaborn as sns"
   ]
  },
  {
   "cell_type": "code",
   "execution_count": 2,
   "id": "9602a08f",
   "metadata": {},
   "outputs": [],
   "source": [
    "## Define una función para extraer los datos\n",
    "#DOWNLOAD_ROOT es la base del GitHub donde vamos a estar descargando las bases de datos.\n",
    "DOWNLOAD_ROOT = \"https://raw.githubusercontent.com/a2Proyectos/MachineLearning_Data/main/\"\n",
    "#Complementos con la dirección especifica de la base de datos que queremos.\n",
    "MEDICAMENTOS = \"Capitulo_3/drug200.csv\""
   ]
  },
  {
   "cell_type": "code",
   "execution_count": 3,
   "id": "72270dd6",
   "metadata": {},
   "outputs": [],
   "source": [
    "# Visualiza el DataFrame\n",
    "df = pd.read_csv(DOWNLOAD_ROOT + MEDICAMENTOS)"
   ]
  },
  {
   "cell_type": "code",
   "execution_count": 4,
   "id": "9c6e047c",
   "metadata": {},
   "outputs": [
    {
     "data": {
      "text/html": [
       "<div>\n",
       "<style scoped>\n",
       "    .dataframe tbody tr th:only-of-type {\n",
       "        vertical-align: middle;\n",
       "    }\n",
       "\n",
       "    .dataframe tbody tr th {\n",
       "        vertical-align: top;\n",
       "    }\n",
       "\n",
       "    .dataframe thead th {\n",
       "        text-align: right;\n",
       "    }\n",
       "</style>\n",
       "<table border=\"1\" class=\"dataframe\">\n",
       "  <thead>\n",
       "    <tr style=\"text-align: right;\">\n",
       "      <th></th>\n",
       "      <th>Age</th>\n",
       "      <th>Sex</th>\n",
       "      <th>BP</th>\n",
       "      <th>Cholesterol</th>\n",
       "      <th>Na_to_K</th>\n",
       "      <th>Drug</th>\n",
       "    </tr>\n",
       "  </thead>\n",
       "  <tbody>\n",
       "    <tr>\n",
       "      <th>0</th>\n",
       "      <td>23</td>\n",
       "      <td>F</td>\n",
       "      <td>HIGH</td>\n",
       "      <td>HIGH</td>\n",
       "      <td>25.355</td>\n",
       "      <td>DrugY</td>\n",
       "    </tr>\n",
       "    <tr>\n",
       "      <th>1</th>\n",
       "      <td>47</td>\n",
       "      <td>M</td>\n",
       "      <td>LOW</td>\n",
       "      <td>HIGH</td>\n",
       "      <td>13.093</td>\n",
       "      <td>drugC</td>\n",
       "    </tr>\n",
       "    <tr>\n",
       "      <th>2</th>\n",
       "      <td>47</td>\n",
       "      <td>M</td>\n",
       "      <td>LOW</td>\n",
       "      <td>HIGH</td>\n",
       "      <td>10.114</td>\n",
       "      <td>drugC</td>\n",
       "    </tr>\n",
       "    <tr>\n",
       "      <th>3</th>\n",
       "      <td>28</td>\n",
       "      <td>F</td>\n",
       "      <td>NORMAL</td>\n",
       "      <td>HIGH</td>\n",
       "      <td>7.798</td>\n",
       "      <td>drugX</td>\n",
       "    </tr>\n",
       "    <tr>\n",
       "      <th>4</th>\n",
       "      <td>61</td>\n",
       "      <td>F</td>\n",
       "      <td>LOW</td>\n",
       "      <td>HIGH</td>\n",
       "      <td>18.043</td>\n",
       "      <td>DrugY</td>\n",
       "    </tr>\n",
       "  </tbody>\n",
       "</table>\n",
       "</div>"
      ],
      "text/plain": [
       "   Age Sex      BP Cholesterol  Na_to_K   Drug\n",
       "0   23   F    HIGH        HIGH   25.355  DrugY\n",
       "1   47   M     LOW        HIGH   13.093  drugC\n",
       "2   47   M     LOW        HIGH   10.114  drugC\n",
       "3   28   F  NORMAL        HIGH    7.798  drugX\n",
       "4   61   F     LOW        HIGH   18.043  DrugY"
      ]
     },
     "execution_count": 4,
     "metadata": {},
     "output_type": "execute_result"
    }
   ],
   "source": [
    "df.head()"
   ]
  },
  {
   "cell_type": "code",
   "execution_count": 5,
   "id": "170ce4ae",
   "metadata": {},
   "outputs": [
    {
     "name": "stdout",
     "output_type": "stream",
     "text": [
      "<class 'pandas.core.frame.DataFrame'>\n",
      "RangeIndex: 200 entries, 0 to 199\n",
      "Data columns (total 6 columns):\n",
      " #   Column       Non-Null Count  Dtype  \n",
      "---  ------       --------------  -----  \n",
      " 0   Age          200 non-null    int64  \n",
      " 1   Sex          200 non-null    object \n",
      " 2   BP           200 non-null    object \n",
      " 3   Cholesterol  200 non-null    object \n",
      " 4   Na_to_K      200 non-null    float64\n",
      " 5   Drug         200 non-null    object \n",
      "dtypes: float64(1), int64(1), object(4)\n",
      "memory usage: 9.5+ KB\n"
     ]
    }
   ],
   "source": [
    "# Obten información de los datos.\n",
    "df.info()"
   ]
  },
  {
   "cell_type": "code",
   "execution_count": 6,
   "id": "61828c64",
   "metadata": {},
   "outputs": [
    {
     "data": {
      "text/plain": [
       "Age               15\n",
       "Sex                F\n",
       "BP              HIGH\n",
       "Cholesterol     HIGH\n",
       "Na_to_K        6.269\n",
       "Drug           DrugY\n",
       "dtype: object"
      ]
     },
     "execution_count": 6,
     "metadata": {},
     "output_type": "execute_result"
    }
   ],
   "source": [
    "df.min()"
   ]
  },
  {
   "cell_type": "code",
   "execution_count": 7,
   "id": "97bade4c",
   "metadata": {},
   "outputs": [
    {
     "data": {
      "text/plain": [
       "Age                74\n",
       "Sex                 M\n",
       "BP             NORMAL\n",
       "Cholesterol    NORMAL\n",
       "Na_to_K        38.247\n",
       "Drug            drugX\n",
       "dtype: object"
      ]
     },
     "execution_count": 7,
     "metadata": {},
     "output_type": "execute_result"
    }
   ],
   "source": [
    "df.max()"
   ]
  },
  {
   "cell_type": "markdown",
   "id": "39f196f8-d5d5-466e-857b-fbde89d224f5",
   "metadata": {},
   "source": [
    "## <span style=\"color:green\">2. Análisis de cada Variable</span>"
   ]
  },
  {
   "cell_type": "code",
   "execution_count": 8,
   "id": "1867789c",
   "metadata": {},
   "outputs": [
    {
     "data": {
      "text/plain": [
       "<seaborn.axisgrid.FacetGrid at 0x1647f7a1e50>"
      ]
     },
     "execution_count": 8,
     "metadata": {},
     "output_type": "execute_result"
    },
    {
     "data": {
      "text/plain": [
       "<Figure size 900x500 with 0 Axes>"
      ]
     },
     "metadata": {},
     "output_type": "display_data"
    },
    {
     "data": {
      "image/png": "[encoded data removed]",
      "text/plain": [
       "<Figure size 500x500 with 1 Axes>"
      ]
     },
     "metadata": {},
     "output_type": "display_data"
    }
   ],
   "source": [
    "#Graficar la variable \n",
    "#Establece una área de figsize(9,5) es decir, el tamaño de la imagen\n",
    "plt.figure(figsize=(9,5))\n",
    "#Crea un displot para de la edad (por ser una variable numérica)\n",
    "sns.displot(df.Age, kde=True) # kernel density estimation"
   ]
  },
  {
   "cell_type": "code",
   "execution_count": 9,
   "id": "6f180aa1",
   "metadata": {},
   "outputs": [
    {
     "data": {
      "text/plain": [
       "Sex\n",
       "M    104\n",
       "F     96\n",
       "Name: count, dtype: int64"
      ]
     },
     "execution_count": 9,
     "metadata": {},
     "output_type": "execute_result"
    }
   ],
   "source": [
    "# Género: cuenta cuántos hombres y mujeres hay\n",
    "df.Sex.value_counts()"
   ]
  },
  {
   "cell_type": "code",
   "execution_count": 10,
   "id": "cdc6b68f",
   "metadata": {},
   "outputs": [
    {
     "data": {
      "text/plain": [
       "BP\n",
       "HIGH      77\n",
       "LOW       64\n",
       "NORMAL    59\n",
       "Name: count, dtype: int64"
      ]
     },
     "execution_count": 10,
     "metadata": {},
     "output_type": "execute_result"
    }
   ],
   "source": [
    "# Crea una gráfica de barras para Presión Sanguinea\n",
    "df.BP.value_counts()"
   ]
  },
  {
   "cell_type": "code",
   "execution_count": 11,
   "id": "7189311b",
   "metadata": {},
   "outputs": [
    {
     "data": {
      "text/plain": [
       "<Axes: xlabel='BP', ylabel='Count'>"
      ]
     },
     "execution_count": 11,
     "metadata": {},
     "output_type": "execute_result"
    },
    {
     "data": {
      "image/png": "[encoded data removed]",
      "text/plain": [
       "<Figure size 640x480 with 1 Axes>"
      ]
     },
     "metadata": {},
     "output_type": "display_data"
    }
   ],
   "source": [
    "# Crea una gráfica de barras para Colesterol\n",
    "# plt.figure(figsize=(9,5))\n",
    "sns.histplot(data=df, x=\"BP\", hue=\"BP\") # hue ->color"
   ]
  },
  {
   "cell_type": "code",
   "execution_count": 12,
   "id": "7c23ac80",
   "metadata": {},
   "outputs": [
    {
     "data": {
      "text/plain": [
       "Cholesterol\n",
       "HIGH      103\n",
       "NORMAL     97\n",
       "Name: count, dtype: int64"
      ]
     },
     "execution_count": 12,
     "metadata": {},
     "output_type": "execute_result"
    }
   ],
   "source": [
    "df.Cholesterol.value_counts()"
   ]
  },
  {
   "cell_type": "code",
   "execution_count": 13,
   "id": "60bded5c",
   "metadata": {},
   "outputs": [
    {
     "data": {
      "text/plain": [
       "<Axes: xlabel='Na_to_K', ylabel='Count'>"
      ]
     },
     "execution_count": 13,
     "metadata": {},
     "output_type": "execute_result"
    },
    {
     "data": {
      "image/png": "[encoded data removed]",
      "text/plain": [
       "<Figure size 640x480 with 1 Axes>"
      ]
     },
     "metadata": {},
     "output_type": "display_data"
    }
   ],
   "source": [
    "# Crea un displot para Sodio Potasio\n",
    "sns.histplot(df.Na_to_K , kde=True)"
   ]
  },
  {
   "cell_type": "code",
   "execution_count": 14,
   "id": "49538c51",
   "metadata": {},
   "outputs": [
    {
     "data": {
      "text/plain": [
       "<Axes: xlabel='Drug', ylabel='Count'>"
      ]
     },
     "execution_count": 14,
     "metadata": {},
     "output_type": "execute_result"
    },
    {
     "data": {
      "image/png": "[encoded data removed]",
      "text/plain": [
       "<Figure size 640x480 with 1 Axes>"
      ]
     },
     "metadata": {},
     "output_type": "display_data"
    }
   ],
   "source": [
    "# Crea una gráfica de barras para los Medicamentos (droga) 💊\n",
    "\n",
    "#Cuenta los medicamentos\n",
    "sns.histplot(df, x=\"Drug\", hue=\"Drug\")"
   ]
  },
  {
   "cell_type": "markdown",
   "id": "1797db2e-0be1-45a9-9496-6f7ce3580db6",
   "metadata": {},
   "source": [
    "***"
   ]
  },
  {
   "cell_type": "markdown",
   "id": "736b6587-e7a8-4000-b8d3-e1c74c4ad6a2",
   "metadata": {},
   "source": [
    "## <span style=\"color:green\">3. Análisis de Relación entre Variables</span>\n"
   ]
  },
  {
   "cell_type": "code",
   "execution_count": 15,
   "id": "b24725f4",
   "metadata": {},
   "outputs": [
    {
     "data": {
      "text/plain": [
       "Text(0.5, 1.0, 'Edad vs Medicamento')"
      ]
     },
     "execution_count": 15,
     "metadata": {},
     "output_type": "execute_result"
    },
    {
     "data": {
      "image/png": "[encoded data removed]",
      "text/plain": [
       "<Figure size 640x480 with 1 Axes>"
      ]
     },
     "metadata": {},
     "output_type": "display_data"
    }
   ],
   "source": [
    "## Grafica (con swarmplot) la relación entre la Edad y los Medicamentos que se les da acorde a 💊\n",
    "sns.swarmplot(x=\"Drug\", y=\"Age\", data= df, hue=\"Drug\")\n",
    "plt.legend(df.Drug.value_counts().index)\n",
    "plt.title(\"Edad vs Medicamento\")"
   ]
  },
  {
   "cell_type": "code",
   "execution_count": 16,
   "id": "b2233b26",
   "metadata": {},
   "outputs": [
    {
     "data": {
      "text/html": [
       "<div>\n",
       "<style scoped>\n",
       "    .dataframe tbody tr th:only-of-type {\n",
       "        vertical-align: middle;\n",
       "    }\n",
       "\n",
       "    .dataframe tbody tr th {\n",
       "        vertical-align: top;\n",
       "    }\n",
       "\n",
       "    .dataframe thead th {\n",
       "        text-align: right;\n",
       "    }\n",
       "</style>\n",
       "<table border=\"1\" class=\"dataframe\">\n",
       "  <thead>\n",
       "    <tr style=\"text-align: right;\">\n",
       "      <th></th>\n",
       "      <th>Drug</th>\n",
       "      <th>Sex</th>\n",
       "      <th>Count</th>\n",
       "    </tr>\n",
       "  </thead>\n",
       "  <tbody>\n",
       "    <tr>\n",
       "      <th>0</th>\n",
       "      <td>DrugY</td>\n",
       "      <td>F</td>\n",
       "      <td>47</td>\n",
       "    </tr>\n",
       "    <tr>\n",
       "      <th>1</th>\n",
       "      <td>DrugY</td>\n",
       "      <td>M</td>\n",
       "      <td>44</td>\n",
       "    </tr>\n",
       "    <tr>\n",
       "      <th>2</th>\n",
       "      <td>drugA</td>\n",
       "      <td>F</td>\n",
       "      <td>9</td>\n",
       "    </tr>\n",
       "    <tr>\n",
       "      <th>3</th>\n",
       "      <td>drugA</td>\n",
       "      <td>M</td>\n",
       "      <td>14</td>\n",
       "    </tr>\n",
       "    <tr>\n",
       "      <th>4</th>\n",
       "      <td>drugB</td>\n",
       "      <td>F</td>\n",
       "      <td>6</td>\n",
       "    </tr>\n",
       "    <tr>\n",
       "      <th>5</th>\n",
       "      <td>drugB</td>\n",
       "      <td>M</td>\n",
       "      <td>10</td>\n",
       "    </tr>\n",
       "    <tr>\n",
       "      <th>6</th>\n",
       "      <td>drugC</td>\n",
       "      <td>F</td>\n",
       "      <td>7</td>\n",
       "    </tr>\n",
       "    <tr>\n",
       "      <th>7</th>\n",
       "      <td>drugC</td>\n",
       "      <td>M</td>\n",
       "      <td>9</td>\n",
       "    </tr>\n",
       "    <tr>\n",
       "      <th>8</th>\n",
       "      <td>drugX</td>\n",
       "      <td>F</td>\n",
       "      <td>27</td>\n",
       "    </tr>\n",
       "    <tr>\n",
       "      <th>9</th>\n",
       "      <td>drugX</td>\n",
       "      <td>M</td>\n",
       "      <td>27</td>\n",
       "    </tr>\n",
       "  </tbody>\n",
       "</table>\n",
       "</div>"
      ],
      "text/plain": [
       "    Drug Sex  Count\n",
       "0  DrugY   F     47\n",
       "1  DrugY   M     44\n",
       "2  drugA   F      9\n",
       "3  drugA   M     14\n",
       "4  drugB   F      6\n",
       "5  drugB   M     10\n",
       "6  drugC   F      7\n",
       "7  drugC   M      9\n",
       "8  drugX   F     27\n",
       "9  drugX   M     27"
      ]
     },
     "execution_count": 16,
     "metadata": {},
     "output_type": "execute_result"
    }
   ],
   "source": [
    "# Grafica la relación entre el el Género y los Medicamentos 💊 que se les da\n",
    "#Primero armar una tablita para poder graficarlas\n",
    "df_sex_drugs = df.groupby([\"Drug\", \"Sex\"]).size().reset_index(name=\"Count\")\n",
    "df_sex_drugs"
   ]
  },
  {
   "cell_type": "code",
   "execution_count": 17,
   "id": "8ecc0273",
   "metadata": {},
   "outputs": [
    {
     "data": {
      "text/plain": [
       "<Axes: xlabel='Drug', ylabel='Count'>"
      ]
     },
     "execution_count": 17,
     "metadata": {},
     "output_type": "execute_result"
    },
    {
     "data": {
      "image/png": "[encoded data removed]",
      "text/plain": [
       "<Figure size 640x480 with 1 Axes>"
      ]
     },
     "metadata": {},
     "output_type": "display_data"
    }
   ],
   "source": [
    "#Grafica la tablita anterior con una gráfica de barras\n",
    "sns.barplot(x=\"Drug\", y=\"Count\", hue= \"Sex\", data= df_sex_drugs)"
   ]
  },
  {
   "cell_type": "code",
   "execution_count": 18,
   "id": "7fba93fc",
   "metadata": {},
   "outputs": [
    {
     "data": {
      "text/html": [
       "<div>\n",
       "<style scoped>\n",
       "    .dataframe tbody tr th:only-of-type {\n",
       "        vertical-align: middle;\n",
       "    }\n",
       "\n",
       "    .dataframe tbody tr th {\n",
       "        vertical-align: top;\n",
       "    }\n",
       "\n",
       "    .dataframe thead th {\n",
       "        text-align: right;\n",
       "    }\n",
       "</style>\n",
       "<table border=\"1\" class=\"dataframe\">\n",
       "  <thead>\n",
       "    <tr style=\"text-align: right;\">\n",
       "      <th></th>\n",
       "      <th>Drug</th>\n",
       "      <th>BP</th>\n",
       "      <th>Count</th>\n",
       "    </tr>\n",
       "  </thead>\n",
       "  <tbody>\n",
       "    <tr>\n",
       "      <th>0</th>\n",
       "      <td>DrugY</td>\n",
       "      <td>HIGH</td>\n",
       "      <td>38</td>\n",
       "    </tr>\n",
       "    <tr>\n",
       "      <th>1</th>\n",
       "      <td>DrugY</td>\n",
       "      <td>LOW</td>\n",
       "      <td>30</td>\n",
       "    </tr>\n",
       "    <tr>\n",
       "      <th>2</th>\n",
       "      <td>DrugY</td>\n",
       "      <td>NORMAL</td>\n",
       "      <td>23</td>\n",
       "    </tr>\n",
       "    <tr>\n",
       "      <th>3</th>\n",
       "      <td>drugA</td>\n",
       "      <td>HIGH</td>\n",
       "      <td>23</td>\n",
       "    </tr>\n",
       "    <tr>\n",
       "      <th>4</th>\n",
       "      <td>drugB</td>\n",
       "      <td>HIGH</td>\n",
       "      <td>16</td>\n",
       "    </tr>\n",
       "    <tr>\n",
       "      <th>5</th>\n",
       "      <td>drugC</td>\n",
       "      <td>LOW</td>\n",
       "      <td>16</td>\n",
       "    </tr>\n",
       "    <tr>\n",
       "      <th>6</th>\n",
       "      <td>drugX</td>\n",
       "      <td>LOW</td>\n",
       "      <td>18</td>\n",
       "    </tr>\n",
       "    <tr>\n",
       "      <th>7</th>\n",
       "      <td>drugX</td>\n",
       "      <td>NORMAL</td>\n",
       "      <td>36</td>\n",
       "    </tr>\n",
       "  </tbody>\n",
       "</table>\n",
       "</div>"
      ],
      "text/plain": [
       "    Drug      BP  Count\n",
       "0  DrugY    HIGH     38\n",
       "1  DrugY     LOW     30\n",
       "2  DrugY  NORMAL     23\n",
       "3  drugA    HIGH     23\n",
       "4  drugB    HIGH     16\n",
       "5  drugC     LOW     16\n",
       "6  drugX     LOW     18\n",
       "7  drugX  NORMAL     36"
      ]
     },
     "execution_count": 18,
     "metadata": {},
     "output_type": "execute_result"
    }
   ],
   "source": [
    "# Grafica la relación entre la Presión Sanguínea y los Medicamentos 💊\n",
    "df_bp_drug = df.groupby([\"Drug\", \"BP\"]).size().reset_index(name=\"Count\")\n",
    "df_bp_drug"
   ]
  },
  {
   "cell_type": "code",
   "execution_count": 19,
   "id": "ae00d704",
   "metadata": {},
   "outputs": [
    {
     "data": {
      "text/plain": [
       "<Axes: xlabel='Drug', ylabel='Count'>"
      ]
     },
     "execution_count": 19,
     "metadata": {},
     "output_type": "execute_result"
    },
    {
     "data": {
      "image/png": "[encoded data removed]",
      "text/plain": [
       "<Figure size 640x480 with 1 Axes>"
      ]
     },
     "metadata": {},
     "output_type": "display_data"
    }
   ],
   "source": [
    "sns.barplot(x=\"Drug\", y=\"Count\", hue= \"BP\", data= df_bp_drug)"
   ]
  },
  {
   "cell_type": "code",
   "execution_count": 20,
   "id": "a0d00f1e",
   "metadata": {},
   "outputs": [
    {
     "data": {
      "text/html": [
       "<div>\n",
       "<style scoped>\n",
       "    .dataframe tbody tr th:only-of-type {\n",
       "        vertical-align: middle;\n",
       "    }\n",
       "\n",
       "    .dataframe tbody tr th {\n",
       "        vertical-align: top;\n",
       "    }\n",
       "\n",
       "    .dataframe thead th {\n",
       "        text-align: right;\n",
       "    }\n",
       "</style>\n",
       "<table border=\"1\" class=\"dataframe\">\n",
       "  <thead>\n",
       "    <tr style=\"text-align: right;\">\n",
       "      <th></th>\n",
       "      <th>Drug</th>\n",
       "      <th>Cholesterol</th>\n",
       "      <th>Count</th>\n",
       "    </tr>\n",
       "  </thead>\n",
       "  <tbody>\n",
       "    <tr>\n",
       "      <th>0</th>\n",
       "      <td>DrugY</td>\n",
       "      <td>HIGH</td>\n",
       "      <td>47</td>\n",
       "    </tr>\n",
       "    <tr>\n",
       "      <th>1</th>\n",
       "      <td>DrugY</td>\n",
       "      <td>NORMAL</td>\n",
       "      <td>44</td>\n",
       "    </tr>\n",
       "    <tr>\n",
       "      <th>2</th>\n",
       "      <td>drugA</td>\n",
       "      <td>HIGH</td>\n",
       "      <td>12</td>\n",
       "    </tr>\n",
       "    <tr>\n",
       "      <th>3</th>\n",
       "      <td>drugA</td>\n",
       "      <td>NORMAL</td>\n",
       "      <td>11</td>\n",
       "    </tr>\n",
       "    <tr>\n",
       "      <th>4</th>\n",
       "      <td>drugB</td>\n",
       "      <td>HIGH</td>\n",
       "      <td>8</td>\n",
       "    </tr>\n",
       "    <tr>\n",
       "      <th>5</th>\n",
       "      <td>drugB</td>\n",
       "      <td>NORMAL</td>\n",
       "      <td>8</td>\n",
       "    </tr>\n",
       "    <tr>\n",
       "      <th>6</th>\n",
       "      <td>drugC</td>\n",
       "      <td>HIGH</td>\n",
       "      <td>16</td>\n",
       "    </tr>\n",
       "    <tr>\n",
       "      <th>7</th>\n",
       "      <td>drugX</td>\n",
       "      <td>HIGH</td>\n",
       "      <td>20</td>\n",
       "    </tr>\n",
       "    <tr>\n",
       "      <th>8</th>\n",
       "      <td>drugX</td>\n",
       "      <td>NORMAL</td>\n",
       "      <td>34</td>\n",
       "    </tr>\n",
       "  </tbody>\n",
       "</table>\n",
       "</div>"
      ],
      "text/plain": [
       "    Drug Cholesterol  Count\n",
       "0  DrugY        HIGH     47\n",
       "1  DrugY      NORMAL     44\n",
       "2  drugA        HIGH     12\n",
       "3  drugA      NORMAL     11\n",
       "4  drugB        HIGH      8\n",
       "5  drugB      NORMAL      8\n",
       "6  drugC        HIGH     16\n",
       "7  drugX        HIGH     20\n",
       "8  drugX      NORMAL     34"
      ]
     },
     "execution_count": 20,
     "metadata": {},
     "output_type": "execute_result"
    }
   ],
   "source": [
    "# Grafica (con una gráfica de barras)nla relación entre el nivel de colesterol y los medicamentos 💊\n",
    "df_chol_drug = df.groupby([\"Drug\", \"Cholesterol\"]).size().reset_index(name=\"Count\")\n",
    "df_chol_drug"
   ]
  },
  {
   "cell_type": "code",
   "execution_count": 21,
   "id": "a1baac67",
   "metadata": {},
   "outputs": [
    {
     "data": {
      "text/plain": [
       "<Axes: xlabel='Drug', ylabel='Count'>"
      ]
     },
     "execution_count": 21,
     "metadata": {},
     "output_type": "execute_result"
    },
    {
     "data": {
      "image/png": "[encoded data removed]",
      "text/plain": [
       "<Figure size 640x480 with 1 Axes>"
      ]
     },
     "metadata": {},
     "output_type": "display_data"
    }
   ],
   "source": [
    "#Grafica (con un swarmplot) la relación entre el nivel de Sodio-Potasio y los medicamentos 💊 que se les da\n",
    "sns.barplot(x=\"Drug\", y=\"Count\", hue= \"Cholesterol\", data= df_chol_drug)"
   ]
  },
  {
   "cell_type": "code",
   "execution_count": 22,
   "id": "6ebaf9b1",
   "metadata": {},
   "outputs": [
    {
     "data": {
      "text/plain": [
       "Text(0.5, 1.0, 'Sodio-Potasio vs Medicamento')"
      ]
     },
     "execution_count": 22,
     "metadata": {},
     "output_type": "execute_result"
    },
    {
     "data": {
      "image/png": "[encoded data removed]",
      "text/plain": [
       "<Figure size 640x480 with 1 Axes>"
      ]
     },
     "metadata": {},
     "output_type": "display_data"
    }
   ],
   "source": [
    "## Grafica (con swarmplot) la relación entre Sodio-Potasio y los Medicamentos que se les da acorde a 💊\n",
    "sns.swarmplot(x=\"Drug\", y=\"Na_to_K\", data= df, hue=\"Drug\")\n",
    "plt.legend(df.Drug.value_counts().index)\n",
    "plt.title(\"Sodio-Potasio vs Medicamento\")"
   ]
  },
  {
   "cell_type": "markdown",
   "id": "71aa2c62-820d-4fe1-8d8a-11ee79ccb844",
   "metadata": {},
   "source": [
    "***"
   ]
  },
  {
   "cell_type": "markdown",
   "id": "443087ee-ad9e-4aea-ad74-29376817eabb",
   "metadata": {},
   "source": [
    "## <span style=\"color:green\">4. Limpieza y Separación de Datos</span>\n"
   ]
  },
  {
   "cell_type": "code",
   "execution_count": 23,
   "id": "29298ff4",
   "metadata": {},
   "outputs": [],
   "source": [
    "## Utilizar LabelEncoder para procesar variables alfanuméricas como el sexo, BP, Colesterol, étc\n",
    "from sklearn.preprocessing import LabelEncoder"
   ]
  },
  {
   "cell_type": "code",
   "execution_count": 24,
   "id": "25549549",
   "metadata": {},
   "outputs": [],
   "source": [
    "def label_encoder(data_category):\n",
    "    le = LabelEncoder()\n",
    "    df[data_category] = le.fit_transform(df[data_category])"
   ]
  },
  {
   "cell_type": "code",
   "execution_count": 25,
   "id": "31e7ed0e",
   "metadata": {},
   "outputs": [
    {
     "data": {
      "text/html": [
       "<div>\n",
       "<style scoped>\n",
       "    .dataframe tbody tr th:only-of-type {\n",
       "        vertical-align: middle;\n",
       "    }\n",
       "\n",
       "    .dataframe tbody tr th {\n",
       "        vertical-align: top;\n",
       "    }\n",
       "\n",
       "    .dataframe thead th {\n",
       "        text-align: right;\n",
       "    }\n",
       "</style>\n",
       "<table border=\"1\" class=\"dataframe\">\n",
       "  <thead>\n",
       "    <tr style=\"text-align: right;\">\n",
       "      <th></th>\n",
       "      <th>Age</th>\n",
       "      <th>Sex</th>\n",
       "      <th>BP</th>\n",
       "      <th>Cholesterol</th>\n",
       "      <th>Na_to_K</th>\n",
       "      <th>Drug</th>\n",
       "    </tr>\n",
       "  </thead>\n",
       "  <tbody>\n",
       "    <tr>\n",
       "      <th>0</th>\n",
       "      <td>23</td>\n",
       "      <td>0</td>\n",
       "      <td>0</td>\n",
       "      <td>0</td>\n",
       "      <td>167</td>\n",
       "      <td>0</td>\n",
       "    </tr>\n",
       "    <tr>\n",
       "      <th>1</th>\n",
       "      <td>47</td>\n",
       "      <td>1</td>\n",
       "      <td>1</td>\n",
       "      <td>0</td>\n",
       "      <td>89</td>\n",
       "      <td>3</td>\n",
       "    </tr>\n",
       "    <tr>\n",
       "      <th>2</th>\n",
       "      <td>47</td>\n",
       "      <td>1</td>\n",
       "      <td>1</td>\n",
       "      <td>0</td>\n",
       "      <td>43</td>\n",
       "      <td>3</td>\n",
       "    </tr>\n",
       "    <tr>\n",
       "      <th>3</th>\n",
       "      <td>28</td>\n",
       "      <td>0</td>\n",
       "      <td>2</td>\n",
       "      <td>0</td>\n",
       "      <td>10</td>\n",
       "      <td>4</td>\n",
       "    </tr>\n",
       "    <tr>\n",
       "      <th>4</th>\n",
       "      <td>61</td>\n",
       "      <td>0</td>\n",
       "      <td>1</td>\n",
       "      <td>0</td>\n",
       "      <td>133</td>\n",
       "      <td>0</td>\n",
       "    </tr>\n",
       "  </tbody>\n",
       "</table>\n",
       "</div>"
      ],
      "text/plain": [
       "   Age  Sex  BP  Cholesterol  Na_to_K  Drug\n",
       "0   23    0   0            0      167     0\n",
       "1   47    1   1            0       89     3\n",
       "2   47    1   1            0       43     3\n",
       "3   28    0   2            0       10     4\n",
       "4   61    0   1            0      133     0"
      ]
     },
     "execution_count": 25,
     "metadata": {},
     "output_type": "execute_result"
    }
   ],
   "source": [
    "variables = [\"Sex\", \"BP\", \"Cholesterol\", \"Na_to_K\", \"Drug\"]\n",
    "for l in variables:\n",
    "    label_encoder(l)\n",
    "\n",
    "df.head()"
   ]
  },
  {
   "cell_type": "code",
   "execution_count": 26,
   "id": "e5c0a907",
   "metadata": {},
   "outputs": [],
   "source": [
    "x = df.drop([\"Drug\"], axis=1)\n",
    "y = df.Drug"
   ]
  },
  {
   "cell_type": "code",
   "execution_count": 27,
   "id": "5fabc577",
   "metadata": {},
   "outputs": [
    {
     "data": {
      "text/html": [
       "<div>\n",
       "<style scoped>\n",
       "    .dataframe tbody tr th:only-of-type {\n",
       "        vertical-align: middle;\n",
       "    }\n",
       "\n",
       "    .dataframe tbody tr th {\n",
       "        vertical-align: top;\n",
       "    }\n",
       "\n",
       "    .dataframe thead th {\n",
       "        text-align: right;\n",
       "    }\n",
       "</style>\n",
       "<table border=\"1\" class=\"dataframe\">\n",
       "  <thead>\n",
       "    <tr style=\"text-align: right;\">\n",
       "      <th></th>\n",
       "      <th>Age</th>\n",
       "      <th>Sex</th>\n",
       "      <th>BP</th>\n",
       "      <th>Cholesterol</th>\n",
       "      <th>Na_to_K</th>\n",
       "    </tr>\n",
       "  </thead>\n",
       "  <tbody>\n",
       "    <tr>\n",
       "      <th>0</th>\n",
       "      <td>23</td>\n",
       "      <td>0</td>\n",
       "      <td>0</td>\n",
       "      <td>0</td>\n",
       "      <td>167</td>\n",
       "    </tr>\n",
       "    <tr>\n",
       "      <th>1</th>\n",
       "      <td>47</td>\n",
       "      <td>1</td>\n",
       "      <td>1</td>\n",
       "      <td>0</td>\n",
       "      <td>89</td>\n",
       "    </tr>\n",
       "    <tr>\n",
       "      <th>2</th>\n",
       "      <td>47</td>\n",
       "      <td>1</td>\n",
       "      <td>1</td>\n",
       "      <td>0</td>\n",
       "      <td>43</td>\n",
       "    </tr>\n",
       "    <tr>\n",
       "      <th>3</th>\n",
       "      <td>28</td>\n",
       "      <td>0</td>\n",
       "      <td>2</td>\n",
       "      <td>0</td>\n",
       "      <td>10</td>\n",
       "    </tr>\n",
       "    <tr>\n",
       "      <th>4</th>\n",
       "      <td>61</td>\n",
       "      <td>0</td>\n",
       "      <td>1</td>\n",
       "      <td>0</td>\n",
       "      <td>133</td>\n",
       "    </tr>\n",
       "    <tr>\n",
       "      <th>...</th>\n",
       "      <td>...</td>\n",
       "      <td>...</td>\n",
       "      <td>...</td>\n",
       "      <td>...</td>\n",
       "      <td>...</td>\n",
       "    </tr>\n",
       "    <tr>\n",
       "      <th>195</th>\n",
       "      <td>56</td>\n",
       "      <td>0</td>\n",
       "      <td>1</td>\n",
       "      <td>0</td>\n",
       "      <td>69</td>\n",
       "    </tr>\n",
       "    <tr>\n",
       "      <th>196</th>\n",
       "      <td>16</td>\n",
       "      <td>1</td>\n",
       "      <td>1</td>\n",
       "      <td>0</td>\n",
       "      <td>75</td>\n",
       "    </tr>\n",
       "    <tr>\n",
       "      <th>197</th>\n",
       "      <td>52</td>\n",
       "      <td>1</td>\n",
       "      <td>2</td>\n",
       "      <td>0</td>\n",
       "      <td>36</td>\n",
       "    </tr>\n",
       "    <tr>\n",
       "      <th>198</th>\n",
       "      <td>23</td>\n",
       "      <td>1</td>\n",
       "      <td>2</td>\n",
       "      <td>1</td>\n",
       "      <td>102</td>\n",
       "    </tr>\n",
       "    <tr>\n",
       "      <th>199</th>\n",
       "      <td>40</td>\n",
       "      <td>0</td>\n",
       "      <td>1</td>\n",
       "      <td>1</td>\n",
       "      <td>66</td>\n",
       "    </tr>\n",
       "  </tbody>\n",
       "</table>\n",
       "<p>200 rows × 5 columns</p>\n",
       "</div>"
      ],
      "text/plain": [
       "     Age  Sex  BP  Cholesterol  Na_to_K\n",
       "0     23    0   0            0      167\n",
       "1     47    1   1            0       89\n",
       "2     47    1   1            0       43\n",
       "3     28    0   2            0       10\n",
       "4     61    0   1            0      133\n",
       "..   ...  ...  ..          ...      ...\n",
       "195   56    0   1            0       69\n",
       "196   16    1   1            0       75\n",
       "197   52    1   2            0       36\n",
       "198   23    1   2            1      102\n",
       "199   40    0   1            1       66\n",
       "\n",
       "[200 rows x 5 columns]"
      ]
     },
     "execution_count": 27,
     "metadata": {},
     "output_type": "execute_result"
    }
   ],
   "source": [
    "x"
   ]
  },
  {
   "cell_type": "code",
   "execution_count": 28,
   "id": "f901805b",
   "metadata": {},
   "outputs": [
    {
     "data": {
      "text/plain": [
       "0      0\n",
       "1      3\n",
       "2      3\n",
       "3      4\n",
       "4      0\n",
       "      ..\n",
       "195    3\n",
       "196    3\n",
       "197    4\n",
       "198    4\n",
       "199    4\n",
       "Name: Drug, Length: 200, dtype: int32"
      ]
     },
     "execution_count": 28,
     "metadata": {},
     "output_type": "execute_result"
    }
   ],
   "source": [
    "y"
   ]
  },
  {
   "cell_type": "code",
   "execution_count": 29,
   "id": "dc2641dc",
   "metadata": {},
   "outputs": [],
   "source": [
    "from sklearn.model_selection import train_test_split"
   ]
  },
  {
   "cell_type": "code",
   "execution_count": 30,
   "id": "4144a67c",
   "metadata": {},
   "outputs": [],
   "source": [
    "# Crear set de entrenamiento y set de prueba\n",
    "x_train, x_test, y_train, y_test = train_test_split(x,y,test_size=0.2, random_state=42, shuffle=True)"
   ]
  },
  {
   "cell_type": "markdown",
   "id": "795b737b-a8b5-47ec-b37a-25ddc33958a1",
   "metadata": {},
   "source": [
    "El 20% de los datos, serán de prueba. Shuffle será true. Semilla de Aleatoriedad=42"
   ]
  },
  {
   "cell_type": "markdown",
   "id": "f1683e08-1f3d-417a-9070-52503a64503a",
   "metadata": {},
   "source": [
    "***"
   ]
  },
  {
   "cell_type": "markdown",
   "id": "72cc823f",
   "metadata": {},
   "source": [
    "## <span style=\"color:green\">5. Modelo de Clasificación Binario</span>\n"
   ]
  },
  {
   "cell_type": "code",
   "execution_count": 31,
   "id": "c3288417",
   "metadata": {},
   "outputs": [],
   "source": [
    "## Crear modelo para medicamento Y\n",
    "y_train_y = (y_train == 0)\n",
    "y_test_y = (y_test == 0)"
   ]
  },
  {
   "cell_type": "markdown",
   "id": "58f623de-9a2c-440d-8e22-c431204df057",
   "metadata": {},
   "source": [
    "Empezaremos con la medicina Y porque es la más popular y, por ende la más fácil de predecir"
   ]
  },
  {
   "cell_type": "code",
   "execution_count": 32,
   "id": "fba21bcb",
   "metadata": {},
   "outputs": [],
   "source": [
    "## Modelo SGD= Stochastic Gradient Descent\n",
    "from sklearn.linear_model import SGDClassifier\n",
    "\n",
    "sgd = SGDClassifier(random_state=42)"
   ]
  },
  {
   "cell_type": "code",
   "execution_count": 33,
   "id": "149792ce",
   "metadata": {},
   "outputs": [
    {
     "data": {
      "text/html": [
       "<style>#sk-container-id-1 {color: black;background-color: white;}#sk-container-id-1 pre{padding: 0;}#sk-container-id-1 div.sk-toggleable {background-color: white;}#sk-container-id-1 label.sk-toggleable__label {cursor: pointer;display: block;width: 100%;margin-bottom: 0;padding: 0.3em;box-sizing: border-box;text-align: center;}#sk-container-id-1 label.sk-toggleable__label-arrow:before {content: \"▸\";float: left;margin-right: 0.25em;color: #696969;}#sk-container-id-1 label.sk-toggleable__label-arrow:hover:before {color: black;}#sk-container-id-1 div.sk-estimator:hover label.sk-toggleable__label-arrow:before {color: black;}#sk-container-id-1 div.sk-toggleable__content {max-height: 0;max-width: 0;overflow: hidden;text-align: left;background-color: #f0f8ff;}#sk-container-id-1 div.sk-toggleable__content pre {margin: 0.2em;color: black;border-radius: 0.25em;background-color: #f0f8ff;}#sk-container-id-1 input.sk-toggleable__control:checked~div.sk-toggleable__content {max-height: 200px;max-width: 100%;overflow: auto;}#sk-container-id-1 input.sk-toggleable__control:checked~label.sk-toggleable__label-arrow:before {content: \"▾\";}#sk-container-id-1 div.sk-estimator input.sk-toggleable__control:checked~label.sk-toggleable__label {background-color: #d4ebff;}#sk-container-id-1 div.sk-label input.sk-toggleable__control:checked~label.sk-toggleable__label {background-color: #d4ebff;}#sk-container-id-1 input.sk-hidden--visually {border: 0;clip: rect(1px 1px 1px 1px);clip: rect(1px, 1px, 1px, 1px);height: 1px;margin: -1px;overflow: hidden;padding: 0;position: absolute;width: 1px;}#sk-container-id-1 div.sk-estimator {font-family: monospace;background-color: #f0f8ff;border: 1px dotted black;border-radius: 0.25em;box-sizing: border-box;margin-bottom: 0.5em;}#sk-container-id-1 div.sk-estimator:hover {background-color: #d4ebff;}#sk-container-id-1 div.sk-parallel-item::after {content: \"\";width: 100%;border-bottom: 1px solid gray;flex-grow: 1;}#sk-container-id-1 div.sk-label:hover label.sk-toggleable__label {background-color: #d4ebff;}#sk-container-id-1 div.sk-serial::before {content: \"\";position: absolute;border-left: 1px solid gray;box-sizing: border-box;top: 0;bottom: 0;left: 50%;z-index: 0;}#sk-container-id-1 div.sk-serial {display: flex;flex-direction: column;align-items: center;background-color: white;padding-right: 0.2em;padding-left: 0.2em;position: relative;}#sk-container-id-1 div.sk-item {position: relative;z-index: 1;}#sk-container-id-1 div.sk-parallel {display: flex;align-items: stretch;justify-content: center;background-color: white;position: relative;}#sk-container-id-1 div.sk-item::before, #sk-container-id-1 div.sk-parallel-item::before {content: \"\";position: absolute;border-left: 1px solid gray;box-sizing: border-box;top: 0;bottom: 0;left: 50%;z-index: -1;}#sk-container-id-1 div.sk-parallel-item {display: flex;flex-direction: column;z-index: 1;position: relative;background-color: white;}#sk-container-id-1 div.sk-parallel-item:first-child::after {align-self: flex-end;width: 50%;}#sk-container-id-1 div.sk-parallel-item:last-child::after {align-self: flex-start;width: 50%;}#sk-container-id-1 div.sk-parallel-item:only-child::after {width: 0;}#sk-container-id-1 div.sk-dashed-wrapped {border: 1px dashed gray;margin: 0 0.4em 0.5em 0.4em;box-sizing: border-box;padding-bottom: 0.4em;background-color: white;}#sk-container-id-1 div.sk-label label {font-family: monospace;font-weight: bold;display: inline-block;line-height: 1.2em;}#sk-container-id-1 div.sk-label-container {text-align: center;}#sk-container-id-1 div.sk-container {/* jupyter's `normalize.less` sets `[hidden] { display: none; }` but bootstrap.min.css set `[hidden] { display: none !important; }` so we also need the `!important` here to be able to override the default hidden behavior on the sphinx rendered scikit-learn.org. See: https://github.com/scikit-learn/scikit-learn/issues/21755 */display: inline-block !important;position: relative;}#sk-container-id-1 div.sk-text-repr-fallback {display: none;}</style><div id=\"sk-container-id-1\" class=\"sk-top-container\"><div class=\"sk-text-repr-fallback\"><pre>SGDClassifier(random_state=42)</pre><b>In a Jupyter environment, please rerun this cell to show the HTML representation or trust the notebook. <br />On GitHub, the HTML representation is unable to render, please try loading this page with nbviewer.org.</b></div><div class=\"sk-container\" hidden><div class=\"sk-item\"><div class=\"sk-estimator sk-toggleable\"><input class=\"sk-toggleable__control sk-hidden--visually\" id=\"sk-estimator-id-1\" type=\"checkbox\" checked><label for=\"sk-estimator-id-1\" class=\"sk-toggleable__label sk-toggleable__label-arrow\">SGDClassifier</label><div class=\"sk-toggleable__content\"><pre>SGDClassifier(random_state=42)</pre></div></div></div></div></div>"
      ],
      "text/plain": [
       "SGDClassifier(random_state=42)"
      ]
     },
     "execution_count": 33,
     "metadata": {},
     "output_type": "execute_result"
    }
   ],
   "source": [
    "# ajustamos el modelo al set de entrenamiento\n",
    "sgd.fit(x_train, y_train_y)"
   ]
  },
  {
   "cell_type": "code",
   "execution_count": 34,
   "id": "32a565d4",
   "metadata": {},
   "outputs": [
    {
     "data": {
      "text/plain": [
       "Age             23\n",
       "Sex              0\n",
       "BP               0\n",
       "Cholesterol      0\n",
       "Na_to_K        167\n",
       "Drug             0\n",
       "Name: 0, dtype: int64"
      ]
     },
     "execution_count": 34,
     "metadata": {},
     "output_type": "execute_result"
    }
   ],
   "source": [
    "df.iloc[0]"
   ]
  },
  {
   "cell_type": "code",
   "execution_count": 35,
   "id": "bf5088ac-ad82-4826-a146-1019f6d44069",
   "metadata": {},
   "outputs": [
    {
     "name": "stderr",
     "output_type": "stream",
     "text": [
      "c:\\Users\\GGudino\\AppData\\Local\\Programs\\Python\\Python311\\Lib\\site-packages\\sklearn\\base.py:439: UserWarning: X does not have valid feature names, but SGDClassifier was fitted with feature names\n",
      "  warnings.warn(\n"
     ]
    },
    {
     "data": {
      "text/plain": [
       "(array([ True]), True)"
      ]
     },
     "execution_count": 35,
     "metadata": {},
     "output_type": "execute_result"
    }
   ],
   "source": [
    "#Predecir la medicina a tomar de un humano que ya sepas el resultado \n",
    "sgd.predict([x_train.loc[0]]), y_train_y.loc[0]"
   ]
  },
  {
   "cell_type": "markdown",
   "id": "aa86fe0e-0bfa-4e4c-ba92-b74675da354f",
   "metadata": {},
   "source": [
    "👀: para saber que le esta yendo bien al modelo tienen que coincidir los resultados"
   ]
  },
  {
   "cell_type": "markdown",
   "id": "66e61519-7db0-4674-9d42-09a56e0aa4ad",
   "metadata": {},
   "source": [
    "***"
   ]
  },
  {
   "cell_type": "markdown",
   "id": "0a3c3270",
   "metadata": {},
   "source": [
    "## <span style=\"color:green\">6. Medidas de desempeño</span>\n"
   ]
  },
  {
   "cell_type": "markdown",
   "id": "f613829e-7173-4f3d-9134-419b8217e868",
   "metadata": {},
   "source": [
    "### <span style=\"color:blue\">6.1 Exactitud</span>"
   ]
  },
  {
   "cell_type": "code",
   "execution_count": 36,
   "id": "8429ae01",
   "metadata": {},
   "outputs": [],
   "source": [
    "from sklearn.model_selection import cross_val_score"
   ]
  },
  {
   "cell_type": "code",
   "execution_count": 37,
   "id": "d1592d60",
   "metadata": {},
   "outputs": [
    {
     "data": {
      "text/plain": [
       "array([0.7962963 , 0.73584906, 0.71698113])"
      ]
     },
     "execution_count": 37,
     "metadata": {},
     "output_type": "execute_result"
    }
   ],
   "source": [
    "# Realiza una Cross validation/K-Folds\n",
    "cross_val_score(sgd, x_train, y_train_y, cv=3, scoring= \"accuracy\")"
   ]
  },
  {
   "cell_type": "markdown",
   "id": "9c5b0b55-8ab3-4cc5-aed1-95f9e44727c1",
   "metadata": {},
   "source": [
    " \n",
    "**cv:** número de dobleses \n",
    "\n",
    "**scoring:** accuracy (será nuestra medida de desempeño)  "
   ]
  },
  {
   "cell_type": "code",
   "execution_count": 38,
   "id": "8b84c96e",
   "metadata": {},
   "outputs": [
    {
     "data": {
      "text/plain": [
       "array([0.57407407, 0.52830189, 0.47169811])"
      ]
     },
     "execution_count": 38,
     "metadata": {},
     "output_type": "execute_result"
    }
   ],
   "source": [
    "# Modelo que nunca es Y\n",
    "from sklearn.base import BaseEstimator\n",
    "class NuncaC(BaseEstimator):\n",
    "    def fit(self, X, y=None):\n",
    "        return self\n",
    "    def predict(self, X):\n",
    "        return np.zeros((len(X),1), dtype=bool)\n",
    "    \n",
    "nunca_y = NuncaC()\n",
    "cross_val_score(nunca_y, x_train, y_train_y, cv=3, scoring=\"accuracy\")"
   ]
  },
  {
   "cell_type": "markdown",
   "id": "0cdfab5e-4809-46f5-91ef-5c6eb7338842",
   "metadata": {},
   "source": [
    "***"
   ]
  },
  {
   "cell_type": "markdown",
   "id": "199752d5",
   "metadata": {},
   "source": [
    "### <span style=\"color:blue\">6.2 Matriz de Confusión</span>"
   ]
  },
  {
   "cell_type": "code",
   "execution_count": 39,
   "id": "39275fad",
   "metadata": {},
   "outputs": [],
   "source": [
    "# Matriz de confusión\n",
    "#Importar cross_val_predict \n",
    "from sklearn.model_selection import cross_val_predict"
   ]
  },
  {
   "cell_type": "code",
   "execution_count": 40,
   "id": "89f6def7",
   "metadata": {},
   "outputs": [],
   "source": [
    "y_train_pred = cross_val_predict(sgd,x_train, y_train_y,cv=3 )"
   ]
  },
  {
   "cell_type": "code",
   "execution_count": 41,
   "id": "7cf7f114",
   "metadata": {},
   "outputs": [
    {
     "data": {
      "text/plain": [
       "array([ True, False, False,  True,  True,  True,  True,  True,  True,\n",
       "        True, False,  True, False,  True, False,  True, False,  True,\n",
       "        True,  True,  True,  True, False,  True, False,  True,  True,\n",
       "        True,  True, False, False, False,  True,  True,  True,  True,\n",
       "        True, False,  True, False, False,  True,  True, False, False,\n",
       "        True, False, False,  True, False,  True,  True,  True,  True,\n",
       "        True,  True,  True,  True, False,  True,  True, False, False,\n",
       "       False,  True, False,  True,  True, False,  True,  True,  True,\n",
       "        True,  True,  True,  True,  True,  True,  True,  True,  True,\n",
       "       False, False,  True,  True,  True,  True,  True, False,  True,\n",
       "        True, False,  True,  True,  True,  True, False, False,  True,\n",
       "        True,  True,  True,  True,  True,  True,  True, False, False,\n",
       "        True,  True, False,  True,  True,  True,  True,  True, False,\n",
       "        True,  True,  True,  True,  True,  True,  True, False, False,\n",
       "        True,  True,  True, False,  True,  True,  True,  True,  True,\n",
       "        True, False,  True,  True, False,  True,  True, False,  True,\n",
       "       False, False,  True, False,  True,  True,  True,  True,  True,\n",
       "        True,  True,  True,  True,  True,  True,  True])"
      ]
     },
     "execution_count": 41,
     "metadata": {},
     "output_type": "execute_result"
    }
   ],
   "source": [
    "y_train_pred"
   ]
  },
  {
   "cell_type": "code",
   "execution_count": 42,
   "id": "0c25baec",
   "metadata": {},
   "outputs": [],
   "source": [
    "#Importar confusion_matrix\n",
    "from sklearn.metrics import confusion_matrix"
   ]
  },
  {
   "cell_type": "code",
   "execution_count": 43,
   "metadata": {},
   "outputs": [
    {
     "data": {
      "text/plain": [
       "array([[44, 40],\n",
       "       [ 0, 76]], dtype=int64)"
      ]
     },
     "execution_count": 43,
     "metadata": {},
     "output_type": "execute_result"
    }
   ],
   "source": [
    "confusion_matrix(y_train_y, y_train_pred)"
   ]
  },
  {
   "cell_type": "markdown",
   "id": "f54a780c-183a-4fa2-84c9-fd6fb8d65503",
   "metadata": {},
   "source": [
    "<img src=\"https://miro.medium.com/v2/resize:fit:4800/format:webp/1*OhEnS-T54Cz0YSTl_c3Dwg.jpeg\" alt=\"Data\">"
   ]
  },
  {
   "cell_type": "markdown",
   "id": "f0f6a0ec-d9f6-47cb-b748-3c519715dd14",
   "metadata": {},
   "source": [
    "**Verdaderos Negativos**: esquina superior izquierda \n",
    "\n",
    "**Falsos positivos**: esquina superior derecha\n",
    "\n",
    "**Falsos Negativos**: esquina inferior izquierda\n",
    "\n",
    "**Verdaderos Positivos**: esquina inferior derecha "
   ]
  },
  {
   "cell_type": "markdown",
   "id": "38fd4cd1-2bcb-4a78-b36d-e1111764aa41",
   "metadata": {},
   "source": [
    "***"
   ]
  },
  {
   "cell_type": "markdown",
   "id": "cfe9e7be",
   "metadata": {},
   "source": [
    "### <span style=\"color:blue\">6.3 Precision y Recall</span>"
   ]
  },
  {
   "cell_type": "code",
   "execution_count": 44,
   "id": "edd6f25a",
   "metadata": {
    "scrolled": true
   },
   "outputs": [],
   "source": [
    "#Importar precision_score y recall_score \n",
    "from sklearn.metrics import precision_score, recall_score"
   ]
  },
  {
   "attachments": {
    "7eddb0e3-9b2f-40e6-8859-a4ba9718b0b8.png": {
     "image/png": "[encoded data removed]"
    }
   },
   "cell_type": "markdown",
   "id": "45751f1a-3ba0-4263-bc49-7f2674f8b981",
   "metadata": {},
   "source": [
    "![image.png](attachment:7eddb0e3-9b2f-40e6-8859-a4ba9718b0b8.png)"
   ]
  },
  {
   "attachments": {
    "c3eee779-8ac5-44f2-ac4c-b18a71b57466.png": {
     "image/png": "[encoded data removed]"
    }
   },
   "cell_type": "markdown",
   "id": "5b055c17-6489-45da-8e6b-58426deddd31",
   "metadata": {},
   "source": [
    "![image.png](attachment:c3eee779-8ac5-44f2-ac4c-b18a71b57466.png)"
   ]
  },
  {
   "cell_type": "code",
   "execution_count": 45,
   "id": "abd769d3",
   "metadata": {},
   "outputs": [
    {
     "data": {
      "text/plain": [
       "(0.6551724137931034, 1.0)"
      ]
     },
     "execution_count": 45,
     "metadata": {},
     "output_type": "execute_result"
    }
   ],
   "source": [
    "p = precision_score(y_train_y, y_train_pred)\n",
    "r = recall_score(y_train_y, y_train_pred)\n",
    "p,r"
   ]
  },
  {
   "cell_type": "markdown",
   "id": "8249612b",
   "metadata": {},
   "source": [
    "Alto **\"PRECISION\"**: Va a priorizar clasificar como True Positive cuando las probabilidades son altas, ante la duda lo deja afuera.\n",
    "\n",
    "Alto **\"RECALL\"**: Va a tratar de que no quede nada afuera, siendo mas indulgente al momento de clasificar."
   ]
  },
  {
   "cell_type": "code",
   "execution_count": 46,
   "id": "cf491a28",
   "metadata": {},
   "outputs": [],
   "source": [
    "#Cambiar de clasificador\n",
    "#Importar RandomForestClassifier\n",
    "from sklearn.ensemble import RandomForestClassifier"
   ]
  },
  {
   "cell_type": "code",
   "execution_count": 47,
   "id": "66540915",
   "metadata": {},
   "outputs": [],
   "source": [
    "rfc = RandomForestClassifier(random_state=42)"
   ]
  },
  {
   "cell_type": "code",
   "execution_count": 48,
   "id": "4656bd3f",
   "metadata": {},
   "outputs": [
    {
     "data": {
      "text/html": [
       "<style>#sk-container-id-2 {color: black;background-color: white;}#sk-container-id-2 pre{padding: 0;}#sk-container-id-2 div.sk-toggleable {background-color: white;}#sk-container-id-2 label.sk-toggleable__label {cursor: pointer;display: block;width: 100%;margin-bottom: 0;padding: 0.3em;box-sizing: border-box;text-align: center;}#sk-container-id-2 label.sk-toggleable__label-arrow:before {content: \"▸\";float: left;margin-right: 0.25em;color: #696969;}#sk-container-id-2 label.sk-toggleable__label-arrow:hover:before {color: black;}#sk-container-id-2 div.sk-estimator:hover label.sk-toggleable__label-arrow:before {color: black;}#sk-container-id-2 div.sk-toggleable__content {max-height: 0;max-width: 0;overflow: hidden;text-align: left;background-color: #f0f8ff;}#sk-container-id-2 div.sk-toggleable__content pre {margin: 0.2em;color: black;border-radius: 0.25em;background-color: #f0f8ff;}#sk-container-id-2 input.sk-toggleable__control:checked~div.sk-toggleable__content {max-height: 200px;max-width: 100%;overflow: auto;}#sk-container-id-2 input.sk-toggleable__control:checked~label.sk-toggleable__label-arrow:before {content: \"▾\";}#sk-container-id-2 div.sk-estimator input.sk-toggleable__control:checked~label.sk-toggleable__label {background-color: #d4ebff;}#sk-container-id-2 div.sk-label input.sk-toggleable__control:checked~label.sk-toggleable__label {background-color: #d4ebff;}#sk-container-id-2 input.sk-hidden--visually {border: 0;clip: rect(1px 1px 1px 1px);clip: rect(1px, 1px, 1px, 1px);height: 1px;margin: -1px;overflow: hidden;padding: 0;position: absolute;width: 1px;}#sk-container-id-2 div.sk-estimator {font-family: monospace;background-color: #f0f8ff;border: 1px dotted black;border-radius: 0.25em;box-sizing: border-box;margin-bottom: 0.5em;}#sk-container-id-2 div.sk-estimator:hover {background-color: #d4ebff;}#sk-container-id-2 div.sk-parallel-item::after {content: \"\";width: 100%;border-bottom: 1px solid gray;flex-grow: 1;}#sk-container-id-2 div.sk-label:hover label.sk-toggleable__label {background-color: #d4ebff;}#sk-container-id-2 div.sk-serial::before {content: \"\";position: absolute;border-left: 1px solid gray;box-sizing: border-box;top: 0;bottom: 0;left: 50%;z-index: 0;}#sk-container-id-2 div.sk-serial {display: flex;flex-direction: column;align-items: center;background-color: white;padding-right: 0.2em;padding-left: 0.2em;position: relative;}#sk-container-id-2 div.sk-item {position: relative;z-index: 1;}#sk-container-id-2 div.sk-parallel {display: flex;align-items: stretch;justify-content: center;background-color: white;position: relative;}#sk-container-id-2 div.sk-item::before, #sk-container-id-2 div.sk-parallel-item::before {content: \"\";position: absolute;border-left: 1px solid gray;box-sizing: border-box;top: 0;bottom: 0;left: 50%;z-index: -1;}#sk-container-id-2 div.sk-parallel-item {display: flex;flex-direction: column;z-index: 1;position: relative;background-color: white;}#sk-container-id-2 div.sk-parallel-item:first-child::after {align-self: flex-end;width: 50%;}#sk-container-id-2 div.sk-parallel-item:last-child::after {align-self: flex-start;width: 50%;}#sk-container-id-2 div.sk-parallel-item:only-child::after {width: 0;}#sk-container-id-2 div.sk-dashed-wrapped {border: 1px dashed gray;margin: 0 0.4em 0.5em 0.4em;box-sizing: border-box;padding-bottom: 0.4em;background-color: white;}#sk-container-id-2 div.sk-label label {font-family: monospace;font-weight: bold;display: inline-block;line-height: 1.2em;}#sk-container-id-2 div.sk-label-container {text-align: center;}#sk-container-id-2 div.sk-container {/* jupyter's `normalize.less` sets `[hidden] { display: none; }` but bootstrap.min.css set `[hidden] { display: none !important; }` so we also need the `!important` here to be able to override the default hidden behavior on the sphinx rendered scikit-learn.org. See: https://github.com/scikit-learn/scikit-learn/issues/21755 */display: inline-block !important;position: relative;}#sk-container-id-2 div.sk-text-repr-fallback {display: none;}</style><div id=\"sk-container-id-2\" class=\"sk-top-container\"><div class=\"sk-text-repr-fallback\"><pre>RandomForestClassifier(random_state=42)</pre><b>In a Jupyter environment, please rerun this cell to show the HTML representation or trust the notebook. <br />On GitHub, the HTML representation is unable to render, please try loading this page with nbviewer.org.</b></div><div class=\"sk-container\" hidden><div class=\"sk-item\"><div class=\"sk-estimator sk-toggleable\"><input class=\"sk-toggleable__control sk-hidden--visually\" id=\"sk-estimator-id-2\" type=\"checkbox\" checked><label for=\"sk-estimator-id-2\" class=\"sk-toggleable__label sk-toggleable__label-arrow\">RandomForestClassifier</label><div class=\"sk-toggleable__content\"><pre>RandomForestClassifier(random_state=42)</pre></div></div></div></div></div>"
      ],
      "text/plain": [
       "RandomForestClassifier(random_state=42)"
      ]
     },
     "execution_count": 48,
     "metadata": {},
     "output_type": "execute_result"
    }
   ],
   "source": [
    "rfc.fit(x_train, y_train_y)"
   ]
  },
  {
   "cell_type": "code",
   "execution_count": 49,
   "id": "1b9d362c",
   "metadata": {},
   "outputs": [],
   "source": [
    "y_train_predict = cross_val_predict(rfc, x_train, y_train_y, cv=3)"
   ]
  },
  {
   "cell_type": "code",
   "execution_count": 50,
   "id": "43356c16",
   "metadata": {},
   "outputs": [
    {
     "data": {
      "text/plain": [
       "array([[84,  0],\n",
       "       [ 2, 74]], dtype=int64)"
      ]
     },
     "execution_count": 50,
     "metadata": {},
     "output_type": "execute_result"
    }
   ],
   "source": [
    "#Hacer la matriz de confusión otra vez\n",
    "confusion_matrix(y_train_y,y_train_predict)"
   ]
  },
  {
   "cell_type": "code",
   "execution_count": 51,
   "id": "432e451f",
   "metadata": {},
   "outputs": [
    {
     "data": {
      "text/plain": [
       "(1.0, 0.9736842105263158)"
      ]
     },
     "execution_count": 51,
     "metadata": {},
     "output_type": "execute_result"
    }
   ],
   "source": [
    "#Calcular la precisión y recall con el nuevo clasificador \n",
    "p = precision_score(y_train_y, y_train_predict)\n",
    "r = recall_score(y_train_y, y_train_predict)\n",
    "p,r"
   ]
  },
  {
   "cell_type": "code",
   "execution_count": 52,
   "id": "51e34651",
   "metadata": {},
   "outputs": [],
   "source": [
    "from sklearn.metrics import f1_score"
   ]
  },
  {
   "cell_type": "code",
   "execution_count": 53,
   "id": "c4769c66",
   "metadata": {},
   "outputs": [
    {
     "data": {
      "text/plain": [
       "0.9866666666666666"
      ]
     },
     "execution_count": 53,
     "metadata": {},
     "output_type": "execute_result"
    }
   ],
   "source": [
    "#Calcular F1\n",
    "f1_score(y_train_y, y_train_predict)"
   ]
  },
  {
   "attachments": {
    "5efcdf08-55c6-4026-990c-e851bc3241af.png": {
     "image/png": "[encoded data removed]"
    }
   },
   "cell_type": "markdown",
   "id": "09ac3e77-751f-4045-a07b-50c6869d2857",
   "metadata": {},
   "source": [
    "<img src=\"https://www.shiksha.com/online-courses/articles/wp-content/uploads/sites/11/2022/12/image-29.png\" alt=\"Data\">\n",
    "\n",
    "![image.png](attachment:5efcdf08-55c6-4026-990c-e851bc3241af.png)"
   ]
  },
  {
   "cell_type": "markdown",
   "id": "53fe39ca-eb18-40cb-ab4f-d2ba63dfe077",
   "metadata": {},
   "source": [
    "***"
   ]
  },
  {
   "cell_type": "markdown",
   "id": "8274b93b",
   "metadata": {},
   "source": [
    "### <span style=\"color:blue\">6.4 Umbral Precision y Recall</span>"
   ]
  },
  {
   "cell_type": "code",
   "execution_count": 54,
   "id": "eb8d1359",
   "metadata": {},
   "outputs": [
    {
     "name": "stderr",
     "output_type": "stream",
     "text": [
      "c:\\Users\\GGudino\\AppData\\Local\\Programs\\Python\\Python311\\Lib\\site-packages\\sklearn\\base.py:439: UserWarning: X does not have valid feature names, but SGDClassifier was fitted with feature names\n",
      "  warnings.warn(\n"
     ]
    },
    {
     "data": {
      "text/plain": [
       "array([40133.06685807])"
      ]
     },
     "execution_count": 54,
     "metadata": {},
     "output_type": "execute_result"
    }
   ],
   "source": [
    "#Puntación de un paciente aleatorio. En función de esta puntuación es lo que decidirá este algoritmo para clasificar la droga Y.\n",
    "y_score = sgd.decision_function([x_train.loc[0]])\n",
    "y_score"
   ]
  },
  {
   "cell_type": "code",
   "execution_count": 55,
   "id": "6a6ab4b0",
   "metadata": {},
   "outputs": [
    {
     "data": {
      "text/plain": [
       "array([  7976.52148917, -17190.04776857,  -9964.25388585,  89235.04476991,\n",
       "        68128.47940852,    419.53726942,  45461.42310616,  80635.78507772,\n",
       "        14091.8536536 ,  17697.93197037,  -2041.01211691,  51757.93586673,\n",
       "        -7922.56286695,  25338.68786361,  -5011.98425795,  64943.20763762,\n",
       "       -35787.35928231, 100742.93489264,  48457.7215671 ,  75326.99879289,\n",
       "        21950.80553359,  59963.66351138, -35101.6004668 ,  34937.36310226,\n",
       "       -32356.61702631,  57062.82579465,  32209.91326786,  46123.80378023,\n",
       "        27680.39836429,  -6104.91237017, -16640.66144478, -20490.2620682 ,\n",
       "        17432.97970075,  21317.64753632,   3733.38881822,   9338.29822792,\n",
       "        87970.67695381, -27082.89795365,  19724.03756165, -34635.9858165 ,\n",
       "        -8994.06101618,  66351.74065925,  25560.78020727,  -6083.48240718,\n",
       "       -10162.96808807,  15927.03775646, -19116.79625873,  -5736.71655044,\n",
       "        41664.42330098,   -930.98746313,  76564.09211064,  54748.38979231,\n",
       "        13809.22280656,  65901.71143657,  61352.71474848,  81861.18932475,\n",
       "        21488.63770828,  35192.57447963, -16817.01519435,  67747.97033056,\n",
       "        29026.34912075,   -629.29616342, -25666.62665253, -22824.9384002 ,\n",
       "        46052.09953976,  -7475.25075736,   6935.84173083,  35086.07790332,\n",
       "        -9801.93062937,  14124.62734717,  51221.99135753,  66376.64624097,\n",
       "        33957.02106955,  10502.80805721,   8768.84493059,  38671.32855089,\n",
       "        10001.51291779,   7520.94000906,  74500.97962509,  53231.7429955 ,\n",
       "        28226.41006849, -24980.96460773,  -3844.2893068 ,  11071.14570767,\n",
       "        50141.69271362,  24575.6406033 ,  82955.95448415,  22038.69103755,\n",
       "       -32581.14745094,    143.21640705,  48654.56792312, -16992.23993913,\n",
       "        19640.3975742 ,  37438.66056369,  21651.6729056 ,   2166.68128592,\n",
       "       -12500.391699  , -11840.63244256,  50870.01817453,  66562.53683978,\n",
       "        63434.39422207,  33570.0029376 ,  49186.3369312 ,  55009.89323167,\n",
       "         8107.14199975,  22503.57999448,  -1381.64427993, -59389.55984721,\n",
       "        29105.58117926,   6068.88342455, -18944.30918758,   8215.98104988,\n",
       "        32878.24611907,  18383.35049207,  42948.83065411,  78773.36891268,\n",
       "       -26012.25114009, 102592.6301264 ,  34218.61957231,  14597.90717126,\n",
       "        25376.27128735,  86329.43751426,  19024.02854329,  55877.59054857,\n",
       "       -46873.06908204, -50840.7471823 ,  80739.06812112,  57005.5588863 ,\n",
       "        46194.21323986, -43281.38042769, 139274.68817389,  98997.64331901,\n",
       "        72767.43223722, 109838.67234276,   3034.582633  ,  13852.5245855 ,\n",
       "       -36797.21156225,  37249.62221083,  76167.82801558, -94079.53346199,\n",
       "        17892.76205252,  79390.1235301 , -17067.66011106,  44459.38474382,\n",
       "       -38753.01631159, -56744.4411137 ,  92721.25809474, -63423.20100816,\n",
       "        11471.25809474,  74284.582633  ,  96352.5245855 ,   5993.02590477,\n",
       "        53351.20532429,  89179.0417359 ,  97285.90189421,  37200.14991532,\n",
       "         5607.14199975, 128011.49556176,  17589.33197337,  43925.08395226])"
      ]
     },
     "execution_count": 55,
     "metadata": {},
     "output_type": "execute_result"
    }
   ],
   "source": [
    "# Aquí obtengo la puntuación de cada fila.\n",
    "y_scores = cross_val_predict(sgd, x_train, y_train_y, cv=3, method= \"decision_function\")\n",
    "y_scores"
   ]
  },
  {
   "cell_type": "code",
   "execution_count": 56,
   "id": "a2c02ad8",
   "metadata": {},
   "outputs": [],
   "source": [
    "#Graficar la precisión y recall. PRECISION RECALL CURVE.\n",
    "from sklearn.metrics import precision_recall_curve"
   ]
  },
  {
   "cell_type": "code",
   "execution_count": 57,
   "id": "e004b863",
   "metadata": {},
   "outputs": [],
   "source": [
    "precisions, recalls, threshold = precision_recall_curve(y_train_y, y_scores)"
   ]
  },
  {
   "cell_type": "code",
   "execution_count": 58,
   "id": "38caa2a4",
   "metadata": {},
   "outputs": [],
   "source": [
    "import plotly.express as px\n",
    "# import nbformat"
   ]
  },
  {
   "cell_type": "code",
   "execution_count": 59,
   "id": "010e4f3f",
   "metadata": {},
   "outputs": [
    {
     "data": {
      "application/vnd.plotly.v1+json": {
       "config": {
        "plotlyServerURL": "https://plot.ly"
       },
       "data": [
        {
         "hovertemplate": "variable=Precision<br>Threshold=%{x}<br>Score=%{y}<extra></extra>",
         "legendgroup": "Precision",
         "line": {
          "color": "#636efa",
          "dash": "solid"
         },
         "marker": {
          "symbol": "circle"
         },
         "mode": "lines",
         "name": "Precision",
         "orientation": "v",
         "showlegend": true,
         "type": "scatter",
         "x": [
          -94079.533461988,
          -63423.20100816232,
          -59389.559847212484,
          -56744.44111370327,
          -50840.747182304876,
          -46873.06908204105,
          -43281.38042768751,
          -38753.016311592546,
          -36797.211562252196,
          -35787.35928230516,
          -35101.6004667976,
          -34635.98581649571,
          -32581.147450941644,
          -32356.617026314543,
          -27082.897953647458,
          -26012.25114008867,
          -25666.626652526335,
          -24980.96460772968,
          -22824.938400202715,
          -20490.26206820048,
          -19116.79625873228,
          -18944.309187582112,
          -17190.04776857061,
          -17067.660111064975,
          -16992.239939133062,
          -16817.01519435183,
          -16640.66144478331,
          -12500.391698999236,
          -11840.632442561577,
          -10162.968088071995,
          -9964.25388585103,
          -9801.930629366414,
          -8994.061016184154,
          -7922.56286695376,
          -7475.250757356647,
          -6104.912370168175,
          -6083.48240718359,
          -5736.716550439126,
          -5011.984257953142,
          -3844.2893068004587,
          -2041.0121169050979,
          -1381.6442799304955,
          -930.9874631315631,
          -629.29616342092,
          143.21640704969377,
          419.53726941877676,
          2166.6812859162746,
          3034.582632998232,
          3733.388818220561,
          5607.141999752841,
          5993.025904766035,
          6068.883424554952,
          6935.841730834708,
          7520.940009061143,
          7976.521489173192,
          8107.141999752823,
          8215.981049884747,
          8768.844930591047,
          9338.298227922543,
          10001.512917791959,
          10502.808057209973,
          11071.14570767446,
          11471.258094739627,
          13809.222806562235,
          13852.524585504783,
          14091.853653599534,
          14124.627347168613,
          14597.907171256744,
          15927.0377564633,
          17432.97970074534,
          17589.33197336755,
          17697.93197037326,
          17892.762052523223,
          18383.350492071975,
          19024.028543288383,
          19640.39757419902,
          19724.037561645357,
          21317.647536319102,
          21488.637708283906,
          21651.672905602136,
          21950.805533591545,
          22038.69103755401,
          22503.57999447569,
          24575.640603301497,
          25338.68786361308,
          25376.271287351672,
          25560.780207271677,
          27680.398364294906,
          28226.410068485224,
          29026.349120747844,
          29105.58117925756,
          32209.913267860018,
          32878.24611907169,
          33570.00293759973,
          33957.02106955149,
          34218.61957231205,
          34937.36310226481,
          35086.07790331679,
          35192.574479626994,
          37200.14991531994,
          37249.622210834445,
          37438.66056368534,
          38671.328550886305,
          41664.42330097901,
          42948.8306541062,
          43925.08395225921,
          44459.38474381594,
          45461.42310616111,
          46052.09953976323,
          46123.803780230905,
          46194.21323985814,
          48457.721567100096,
          48654.567923124654,
          49186.33693120026,
          50141.69271361667,
          50870.01817453391,
          51221.99135752968,
          51757.93586672993,
          53231.742995500004,
          53351.20532429084,
          54748.38979230956,
          55009.89323167241,
          55877.59054856522,
          57005.55888629609,
          57062.825794647346,
          59963.66351138217,
          61352.714748475424,
          63434.394222073075,
          64943.20763762406,
          65901.7114365721,
          66351.7406592488,
          66376.64624096687,
          66562.53683977839,
          67747.97033056006,
          68128.47940851824,
          72767.43223721946,
          74284.58263299782,
          74500.97962508994,
          75326.99879289386,
          76167.82801558357,
          76564.09211064174,
          78773.36891268117,
          79390.12353009543,
          80635.78507771746,
          80739.06812112442,
          81861.1893247465,
          82955.95448414824,
          86329.43751426424,
          87970.67695381325,
          89179.04173590011,
          89235.0447699052,
          92721.25809473913,
          96352.52458550427,
          97285.9018942114,
          98997.6433190135,
          100742.93489264035,
          102592.63012640136,
          109838.67234276015,
          128011.4955617574,
          139274.68817389454
         ],
         "xaxis": "x",
         "y": [
          0.475,
          0.4779874213836478,
          0.4810126582278481,
          0.4840764331210191,
          0.48717948717948717,
          0.49032258064516127,
          0.4935064935064935,
          0.49673202614379086,
          0.5,
          0.5033112582781457,
          0.5066666666666667,
          0.5100671140939598,
          0.5135135135135135,
          0.5170068027210885,
          0.5205479452054794,
          0.5241379310344828,
          0.5277777777777778,
          0.5314685314685315,
          0.5352112676056338,
          0.5390070921985816,
          0.5428571428571428,
          0.5467625899280576,
          0.5507246376811594,
          0.5547445255474452,
          0.5588235294117647,
          0.562962962962963,
          0.5671641791044776,
          0.5714285714285714,
          0.5757575757575758,
          0.5801526717557252,
          0.5846153846153846,
          0.5891472868217055,
          0.59375,
          0.5984251968503937,
          0.6031746031746031,
          0.608,
          0.6129032258064516,
          0.6178861788617886,
          0.6229508196721312,
          0.628099173553719,
          0.6333333333333333,
          0.6386554621848739,
          0.6440677966101694,
          0.6495726495726496,
          0.6551724137931034,
          0.6608695652173913,
          0.6666666666666666,
          0.672566371681416,
          0.6785714285714286,
          0.6846846846846847,
          0.6909090909090909,
          0.6972477064220184,
          0.7037037037037037,
          0.7102803738317757,
          0.7169811320754716,
          0.7238095238095238,
          0.7307692307692307,
          0.7378640776699029,
          0.7450980392156863,
          0.7524752475247525,
          0.76,
          0.7676767676767676,
          0.7755102040816326,
          0.7731958762886598,
          0.78125,
          0.7789473684210526,
          0.776595744680851,
          0.7849462365591398,
          0.7934782608695652,
          0.8021978021978022,
          0.8111111111111111,
          0.8089887640449438,
          0.8181818181818182,
          0.8275862068965517,
          0.8255813953488372,
          0.8352941176470589,
          0.8333333333333334,
          0.8433734939759037,
          0.8536585365853658,
          0.8641975308641975,
          0.875,
          0.8860759493670886,
          0.8974358974358975,
          0.9090909090909091,
          0.9078947368421053,
          0.9066666666666666,
          0.9054054054054054,
          0.9178082191780822,
          0.9166666666666666,
          0.9154929577464789,
          0.9142857142857143,
          0.9130434782608695,
          0.9117647058823529,
          0.9104477611940298,
          0.9090909090909091,
          0.9230769230769231,
          0.9375,
          0.9365079365079365,
          0.9354838709677419,
          0.9344262295081968,
          0.95,
          0.9661016949152542,
          0.9655172413793104,
          0.9649122807017544,
          0.9642857142857143,
          0.9636363636363636,
          0.9814814814814815,
          0.9811320754716981,
          0.9807692307692307,
          0.9803921568627451,
          0.98,
          1,
          1,
          1,
          1,
          1,
          1,
          1,
          1,
          1,
          1,
          1,
          1,
          1,
          1,
          1,
          1,
          1,
          1,
          1,
          1,
          1,
          1,
          1,
          1,
          1,
          1,
          1,
          1,
          1,
          1,
          1,
          1,
          1,
          1,
          1,
          1,
          1,
          1,
          1,
          1,
          1,
          1,
          1,
          1,
          1,
          1,
          1,
          1,
          1
         ],
         "yaxis": "y"
        },
        {
         "hovertemplate": "variable=Recall<br>Threshold=%{x}<br>Score=%{y}<extra></extra>",
         "legendgroup": "Recall",
         "line": {
          "color": "#EF553B",
          "dash": "solid"
         },
         "marker": {
          "symbol": "circle"
         },
         "mode": "lines",
         "name": "Recall",
         "orientation": "v",
         "showlegend": true,
         "type": "scatter",
         "x": [
          -94079.533461988,
          -63423.20100816232,
          -59389.559847212484,
          -56744.44111370327,
          -50840.747182304876,
          -46873.06908204105,
          -43281.38042768751,
          -38753.016311592546,
          -36797.211562252196,
          -35787.35928230516,
          -35101.6004667976,
          -34635.98581649571,
          -32581.147450941644,
          -32356.617026314543,
          -27082.897953647458,
          -26012.25114008867,
          -25666.626652526335,
          -24980.96460772968,
          -22824.938400202715,
          -20490.26206820048,
          -19116.79625873228,
          -18944.309187582112,
          -17190.04776857061,
          -17067.660111064975,
          -16992.239939133062,
          -16817.01519435183,
          -16640.66144478331,
          -12500.391698999236,
          -11840.632442561577,
          -10162.968088071995,
          -9964.25388585103,
          -9801.930629366414,
          -8994.061016184154,
          -7922.56286695376,
          -7475.250757356647,
          -6104.912370168175,
          -6083.48240718359,
          -5736.716550439126,
          -5011.984257953142,
          -3844.2893068004587,
          -2041.0121169050979,
          -1381.6442799304955,
          -930.9874631315631,
          -629.29616342092,
          143.21640704969377,
          419.53726941877676,
          2166.6812859162746,
          3034.582632998232,
          3733.388818220561,
          5607.141999752841,
          5993.025904766035,
          6068.883424554952,
          6935.841730834708,
          7520.940009061143,
          7976.521489173192,
          8107.141999752823,
          8215.981049884747,
          8768.844930591047,
          9338.298227922543,
          10001.512917791959,
          10502.808057209973,
          11071.14570767446,
          11471.258094739627,
          13809.222806562235,
          13852.524585504783,
          14091.853653599534,
          14124.627347168613,
          14597.907171256744,
          15927.0377564633,
          17432.97970074534,
          17589.33197336755,
          17697.93197037326,
          17892.762052523223,
          18383.350492071975,
          19024.028543288383,
          19640.39757419902,
          19724.037561645357,
          21317.647536319102,
          21488.637708283906,
          21651.672905602136,
          21950.805533591545,
          22038.69103755401,
          22503.57999447569,
          24575.640603301497,
          25338.68786361308,
          25376.271287351672,
          25560.780207271677,
          27680.398364294906,
          28226.410068485224,
          29026.349120747844,
          29105.58117925756,
          32209.913267860018,
          32878.24611907169,
          33570.00293759973,
          33957.02106955149,
          34218.61957231205,
          34937.36310226481,
          35086.07790331679,
          35192.574479626994,
          37200.14991531994,
          37249.622210834445,
          37438.66056368534,
          38671.328550886305,
          41664.42330097901,
          42948.8306541062,
          43925.08395225921,
          44459.38474381594,
          45461.42310616111,
          46052.09953976323,
          46123.803780230905,
          46194.21323985814,
          48457.721567100096,
          48654.567923124654,
          49186.33693120026,
          50141.69271361667,
          50870.01817453391,
          51221.99135752968,
          51757.93586672993,
          53231.742995500004,
          53351.20532429084,
          54748.38979230956,
          55009.89323167241,
          55877.59054856522,
          57005.55888629609,
          57062.825794647346,
          59963.66351138217,
          61352.714748475424,
          63434.394222073075,
          64943.20763762406,
          65901.7114365721,
          66351.7406592488,
          66376.64624096687,
          66562.53683977839,
          67747.97033056006,
          68128.47940851824,
          72767.43223721946,
          74284.58263299782,
          74500.97962508994,
          75326.99879289386,
          76167.82801558357,
          76564.09211064174,
          78773.36891268117,
          79390.12353009543,
          80635.78507771746,
          80739.06812112442,
          81861.1893247465,
          82955.95448414824,
          86329.43751426424,
          87970.67695381325,
          89179.04173590011,
          89235.0447699052,
          92721.25809473913,
          96352.52458550427,
          97285.9018942114,
          98997.6433190135,
          100742.93489264035,
          102592.63012640136,
          109838.67234276015,
          128011.4955617574,
          139274.68817389454
         ],
         "xaxis": "x",
         "y": [
          1,
          1,
          1,
          1,
          1,
          1,
          1,
          1,
          1,
          1,
          1,
          1,
          1,
          1,
          1,
          1,
          1,
          1,
          1,
          1,
          1,
          1,
          1,
          1,
          1,
          1,
          1,
          1,
          1,
          1,
          1,
          1,
          1,
          1,
          1,
          1,
          1,
          1,
          1,
          1,
          1,
          1,
          1,
          1,
          1,
          1,
          1,
          1,
          1,
          1,
          1,
          1,
          1,
          1,
          1,
          1,
          1,
          1,
          1,
          1,
          1,
          1,
          1,
          0.9868421052631579,
          0.9868421052631579,
          0.9736842105263158,
          0.9605263157894737,
          0.9605263157894737,
          0.9605263157894737,
          0.9605263157894737,
          0.9605263157894737,
          0.9473684210526315,
          0.9473684210526315,
          0.9473684210526315,
          0.9342105263157895,
          0.9342105263157895,
          0.9210526315789473,
          0.9210526315789473,
          0.9210526315789473,
          0.9210526315789473,
          0.9210526315789473,
          0.9210526315789473,
          0.9210526315789473,
          0.9210526315789473,
          0.9078947368421053,
          0.8947368421052632,
          0.881578947368421,
          0.881578947368421,
          0.868421052631579,
          0.8552631578947368,
          0.8421052631578947,
          0.8289473684210527,
          0.8157894736842105,
          0.8026315789473685,
          0.7894736842105263,
          0.7894736842105263,
          0.7894736842105263,
          0.7763157894736842,
          0.7631578947368421,
          0.75,
          0.75,
          0.75,
          0.7368421052631579,
          0.7236842105263158,
          0.7105263157894737,
          0.6973684210526315,
          0.6973684210526315,
          0.6842105263157895,
          0.6710526315789473,
          0.6578947368421053,
          0.6447368421052632,
          0.6447368421052632,
          0.631578947368421,
          0.618421052631579,
          0.6052631578947368,
          0.5921052631578947,
          0.5789473684210527,
          0.5657894736842105,
          0.5526315789473685,
          0.5394736842105263,
          0.5263157894736842,
          0.5131578947368421,
          0.5,
          0.4868421052631579,
          0.47368421052631576,
          0.4605263157894737,
          0.4473684210526316,
          0.4342105263157895,
          0.42105263157894735,
          0.40789473684210525,
          0.39473684210526316,
          0.3815789473684211,
          0.3684210526315789,
          0.35526315789473684,
          0.34210526315789475,
          0.32894736842105265,
          0.3157894736842105,
          0.3026315789473684,
          0.2894736842105263,
          0.27631578947368424,
          0.2631578947368421,
          0.25,
          0.23684210526315788,
          0.2236842105263158,
          0.21052631578947367,
          0.19736842105263158,
          0.18421052631578946,
          0.17105263157894737,
          0.15789473684210525,
          0.14473684210526316,
          0.13157894736842105,
          0.11842105263157894,
          0.10526315789473684,
          0.09210526315789473,
          0.07894736842105263,
          0.06578947368421052,
          0.05263157894736842,
          0.039473684210526314,
          0.02631578947368421,
          0.013157894736842105
         ],
         "yaxis": "y"
        }
       ],
       "layout": {
        "legend": {
         "title": {
          "text": "variable"
         },
         "tracegroupgap": 0
        },
        "template": {
         "data": {
          "bar": [
           {
            "error_x": {
             "color": "#2a3f5f"
            },
            "error_y": {
             "color": "#2a3f5f"
            },
            "marker": {
             "line": {
              "color": "#E5ECF6",
              "width": 0.5
             },
             "pattern": {
              "fillmode": "overlay",
              "size": 10,
              "solidity": 0.2
             }
            },
            "type": "bar"
           }
          ],
          "barpolar": [
           {
            "marker": {
             "line": {
              "color": "#E5ECF6",
              "width": 0.5
             },
             "pattern": {
              "fillmode": "overlay",
              "size": 10,
              "solidity": 0.2
             }
            },
            "type": "barpolar"
           }
          ],
          "carpet": [
           {
            "aaxis": {
             "endlinecolor": "#2a3f5f",
             "gridcolor": "white",
             "linecolor": "white",
             "minorgridcolor": "white",
             "startlinecolor": "#2a3f5f"
            },
            "baxis": {
             "endlinecolor": "#2a3f5f",
             "gridcolor": "white",
             "linecolor": "white",
             "minorgridcolor": "white",
             "startlinecolor": "#2a3f5f"
            },
            "type": "carpet"
           }
          ],
          "choropleth": [
           {
            "colorbar": {
             "outlinewidth": 0,
             "ticks": ""
            },
            "type": "choropleth"
           }
          ],
          "contour": [
           {
            "colorbar": {
             "outlinewidth": 0,
             "ticks": ""
            },
            "colorscale": [
             [
              0,
              "#0d0887"
             ],
             [
              0.1111111111111111,
              "#46039f"
             ],
             [
              0.2222222222222222,
              "#7201a8"
             ],
             [
              0.3333333333333333,
              "#9c179e"
             ],
             [
              0.4444444444444444,
              "#bd3786"
             ],
             [
              0.5555555555555556,
              "#d8576b"
             ],
             [
              0.6666666666666666,
              "#ed7953"
             ],
             [
              0.7777777777777778,
              "#fb9f3a"
             ],
             [
              0.8888888888888888,
              "#fdca26"
             ],
             [
              1,
              "#f0f921"
             ]
            ],
            "type": "contour"
           }
          ],
          "contourcarpet": [
           {
            "colorbar": {
             "outlinewidth": 0,
             "ticks": ""
            },
            "type": "contourcarpet"
           }
          ],
          "heatmap": [
           {
            "colorbar": {
             "outlinewidth": 0,
             "ticks": ""
            },
            "colorscale": [
             [
              0,
              "#0d0887"
             ],
             [
              0.1111111111111111,
              "#46039f"
             ],
             [
              0.2222222222222222,
              "#7201a8"
             ],
             [
              0.3333333333333333,
              "#9c179e"
             ],
             [
              0.4444444444444444,
              "#bd3786"
             ],
             [
              0.5555555555555556,
              "#d8576b"
             ],
             [
              0.6666666666666666,
              "#ed7953"
             ],
             [
              0.7777777777777778,
              "#fb9f3a"
             ],
             [
              0.8888888888888888,
              "#fdca26"
             ],
             [
              1,
              "#f0f921"
             ]
            ],
            "type": "heatmap"
           }
          ],
          "heatmapgl": [
           {
            "colorbar": {
             "outlinewidth": 0,
             "ticks": ""
            },
            "colorscale": [
             [
              0,
              "#0d0887"
             ],
             [
              0.1111111111111111,
              "#46039f"
             ],
             [
              0.2222222222222222,
              "#7201a8"
             ],
             [
              0.3333333333333333,
              "#9c179e"
             ],
             [
              0.4444444444444444,
              "#bd3786"
             ],
             [
              0.5555555555555556,
              "#d8576b"
             ],
             [
              0.6666666666666666,
              "#ed7953"
             ],
             [
              0.7777777777777778,
              "#fb9f3a"
             ],
             [
              0.8888888888888888,
              "#fdca26"
             ],
             [
              1,
              "#f0f921"
             ]
            ],
            "type": "heatmapgl"
           }
          ],
          "histogram": [
           {
            "marker": {
             "pattern": {
              "fillmode": "overlay",
              "size": 10,
              "solidity": 0.2
             }
            },
            "type": "histogram"
           }
          ],
          "histogram2d": [
           {
            "colorbar": {
             "outlinewidth": 0,
             "ticks": ""
            },
            "colorscale": [
             [
              0,
              "#0d0887"
             ],
             [
              0.1111111111111111,
              "#46039f"
             ],
             [
              0.2222222222222222,
              "#7201a8"
             ],
             [
              0.3333333333333333,
              "#9c179e"
             ],
             [
              0.4444444444444444,
              "#bd3786"
             ],
             [
              0.5555555555555556,
              "#d8576b"
             ],
             [
              0.6666666666666666,
              "#ed7953"
             ],
             [
              0.7777777777777778,
              "#fb9f3a"
             ],
             [
              0.8888888888888888,
              "#fdca26"
             ],
             [
              1,
              "#f0f921"
             ]
            ],
            "type": "histogram2d"
           }
          ],
          "histogram2dcontour": [
           {
            "colorbar": {
             "outlinewidth": 0,
             "ticks": ""
            },
            "colorscale": [
             [
              0,
              "#0d0887"
             ],
             [
              0.1111111111111111,
              "#46039f"
             ],
             [
              0.2222222222222222,
              "#7201a8"
             ],
             [
              0.3333333333333333,
              "#9c179e"
             ],
             [
              0.4444444444444444,
              "#bd3786"
             ],
             [
              0.5555555555555556,
              "#d8576b"
             ],
             [
              0.6666666666666666,
              "#ed7953"
             ],
             [
              0.7777777777777778,
              "#fb9f3a"
             ],
             [
              0.8888888888888888,
              "#fdca26"
             ],
             [
              1,
              "#f0f921"
             ]
            ],
            "type": "histogram2dcontour"
           }
          ],
          "mesh3d": [
           {
            "colorbar": {
             "outlinewidth": 0,
             "ticks": ""
            },
            "type": "mesh3d"
           }
          ],
          "parcoords": [
           {
            "line": {
             "colorbar": {
              "outlinewidth": 0,
              "ticks": ""
             }
            },
            "type": "parcoords"
           }
          ],
          "pie": [
           {
            "automargin": true,
            "type": "pie"
           }
          ],
          "scatter": [
           {
            "fillpattern": {
             "fillmode": "overlay",
             "size": 10,
             "solidity": 0.2
            },
            "type": "scatter"
           }
          ],
          "scatter3d": [
           {
            "line": {
             "colorbar": {
              "outlinewidth": 0,
              "ticks": ""
             }
            },
            "marker": {
             "colorbar": {
              "outlinewidth": 0,
              "ticks": ""
             }
            },
            "type": "scatter3d"
           }
          ],
          "scattercarpet": [
           {
            "marker": {
             "colorbar": {
              "outlinewidth": 0,
              "ticks": ""
             }
            },
            "type": "scattercarpet"
           }
          ],
          "scattergeo": [
           {
            "marker": {
             "colorbar": {
              "outlinewidth": 0,
              "ticks": ""
             }
            },
            "type": "scattergeo"
           }
          ],
          "scattergl": [
           {
            "marker": {
             "colorbar": {
              "outlinewidth": 0,
              "ticks": ""
             }
            },
            "type": "scattergl"
           }
          ],
          "scattermapbox": [
           {
            "marker": {
             "colorbar": {
              "outlinewidth": 0,
              "ticks": ""
             }
            },
            "type": "scattermapbox"
           }
          ],
          "scatterpolar": [
           {
            "marker": {
             "colorbar": {
              "outlinewidth": 0,
              "ticks": ""
             }
            },
            "type": "scatterpolar"
           }
          ],
          "scatterpolargl": [
           {
            "marker": {
             "colorbar": {
              "outlinewidth": 0,
              "ticks": ""
             }
            },
            "type": "scatterpolargl"
           }
          ],
          "scatterternary": [
           {
            "marker": {
             "colorbar": {
              "outlinewidth": 0,
              "ticks": ""
             }
            },
            "type": "scatterternary"
           }
          ],
          "surface": [
           {
            "colorbar": {
             "outlinewidth": 0,
             "ticks": ""
            },
            "colorscale": [
             [
              0,
              "#0d0887"
             ],
             [
              0.1111111111111111,
              "#46039f"
             ],
             [
              0.2222222222222222,
              "#7201a8"
             ],
             [
              0.3333333333333333,
              "#9c179e"
             ],
             [
              0.4444444444444444,
              "#bd3786"
             ],
             [
              0.5555555555555556,
              "#d8576b"
             ],
             [
              0.6666666666666666,
              "#ed7953"
             ],
             [
              0.7777777777777778,
              "#fb9f3a"
             ],
             [
              0.8888888888888888,
              "#fdca26"
             ],
             [
              1,
              "#f0f921"
             ]
            ],
            "type": "surface"
           }
          ],
          "table": [
           {
            "cells": {
             "fill": {
              "color": "#EBF0F8"
             },
             "line": {
              "color": "white"
             }
            },
            "header": {
             "fill": {
              "color": "#C8D4E3"
             },
             "line": {
              "color": "white"
             }
            },
            "type": "table"
           }
          ]
         },
         "layout": {
          "annotationdefaults": {
           "arrowcolor": "#2a3f5f",
           "arrowhead": 0,
           "arrowwidth": 1
          },
          "autotypenumbers": "strict",
          "coloraxis": {
           "colorbar": {
            "outlinewidth": 0,
            "ticks": ""
           }
          },
          "colorscale": {
           "diverging": [
            [
             0,
             "#8e0152"
            ],
            [
             0.1,
             "#c51b7d"
            ],
            [
             0.2,
             "#de77ae"
            ],
            [
             0.3,
             "#f1b6da"
            ],
            [
             0.4,
             "#fde0ef"
            ],
            [
             0.5,
             "#f7f7f7"
            ],
            [
             0.6,
             "#e6f5d0"
            ],
            [
             0.7,
             "#b8e186"
            ],
            [
             0.8,
             "#7fbc41"
            ],
            [
             0.9,
             "#4d9221"
            ],
            [
             1,
             "#276419"
            ]
           ],
           "sequential": [
            [
             0,
             "#0d0887"
            ],
            [
             0.1111111111111111,
             "#46039f"
            ],
            [
             0.2222222222222222,
             "#7201a8"
            ],
            [
             0.3333333333333333,
             "#9c179e"
            ],
            [
             0.4444444444444444,
             "#bd3786"
            ],
            [
             0.5555555555555556,
             "#d8576b"
            ],
            [
             0.6666666666666666,
             "#ed7953"
            ],
            [
             0.7777777777777778,
             "#fb9f3a"
            ],
            [
             0.8888888888888888,
             "#fdca26"
            ],
            [
             1,
             "#f0f921"
            ]
           ],
           "sequentialminus": [
            [
             0,
             "#0d0887"
            ],
            [
             0.1111111111111111,
             "#46039f"
            ],
            [
             0.2222222222222222,
             "#7201a8"
            ],
            [
             0.3333333333333333,
             "#9c179e"
            ],
            [
             0.4444444444444444,
             "#bd3786"
            ],
            [
             0.5555555555555556,
             "#d8576b"
            ],
            [
             0.6666666666666666,
             "#ed7953"
            ],
            [
             0.7777777777777778,
             "#fb9f3a"
            ],
            [
             0.8888888888888888,
             "#fdca26"
            ],
            [
             1,
             "#f0f921"
            ]
           ]
          },
          "colorway": [
           "#636efa",
           "#EF553B",
           "#00cc96",
           "#ab63fa",
           "#FFA15A",
           "#19d3f3",
           "#FF6692",
           "#B6E880",
           "#FF97FF",
           "#FECB52"
          ],
          "font": {
           "color": "#2a3f5f"
          },
          "geo": {
           "bgcolor": "white",
           "lakecolor": "white",
           "landcolor": "#E5ECF6",
           "showlakes": true,
           "showland": true,
           "subunitcolor": "white"
          },
          "hoverlabel": {
           "align": "left"
          },
          "hovermode": "closest",
          "mapbox": {
           "style": "light"
          },
          "paper_bgcolor": "white",
          "plot_bgcolor": "#E5ECF6",
          "polar": {
           "angularaxis": {
            "gridcolor": "white",
            "linecolor": "white",
            "ticks": ""
           },
           "bgcolor": "#E5ECF6",
           "radialaxis": {
            "gridcolor": "white",
            "linecolor": "white",
            "ticks": ""
           }
          },
          "scene": {
           "xaxis": {
            "backgroundcolor": "#E5ECF6",
            "gridcolor": "white",
            "gridwidth": 2,
            "linecolor": "white",
            "showbackground": true,
            "ticks": "",
            "zerolinecolor": "white"
           },
           "yaxis": {
            "backgroundcolor": "#E5ECF6",
            "gridcolor": "white",
            "gridwidth": 2,
            "linecolor": "white",
            "showbackground": true,
            "ticks": "",
            "zerolinecolor": "white"
           },
           "zaxis": {
            "backgroundcolor": "#E5ECF6",
            "gridcolor": "white",
            "gridwidth": 2,
            "linecolor": "white",
            "showbackground": true,
            "ticks": "",
            "zerolinecolor": "white"
           }
          },
          "shapedefaults": {
           "line": {
            "color": "#2a3f5f"
           }
          },
          "ternary": {
           "aaxis": {
            "gridcolor": "white",
            "linecolor": "white",
            "ticks": ""
           },
           "baxis": {
            "gridcolor": "white",
            "linecolor": "white",
            "ticks": ""
           },
           "bgcolor": "#E5ECF6",
           "caxis": {
            "gridcolor": "white",
            "linecolor": "white",
            "ticks": ""
           }
          },
          "title": {
           "x": 0.05
          },
          "xaxis": {
           "automargin": true,
           "gridcolor": "white",
           "linecolor": "white",
           "ticks": "",
           "title": {
            "standoff": 15
           },
           "zerolinecolor": "white",
           "zerolinewidth": 2
          },
          "yaxis": {
           "automargin": true,
           "gridcolor": "white",
           "linecolor": "white",
           "ticks": "",
           "title": {
            "standoff": 15
           },
           "zerolinecolor": "white",
           "zerolinewidth": 2
          }
         }
        },
        "title": {
         "text": "Precision & Recall vs Threshold"
        },
        "xaxis": {
         "anchor": "y",
         "domain": [
          0,
          1
         ],
         "title": {
          "text": "Threshold"
         }
        },
        "yaxis": {
         "anchor": "x",
         "domain": [
          0,
          1
         ],
         "tickvals": [
          0.1,
          0.2,
          0.3,
          0.4,
          0.5,
          0.6,
          0.7,
          0.8,
          0.9,
          1
         ],
         "title": {
          "text": "Score"
         }
        }
       }
      }
     },
     "metadata": {},
     "output_type": "display_data"
    }
   ],
   "source": [
    "df1 = pd.DataFrame({'Threshold': threshold, 'Precision': precisions[:-1], 'Recall': recalls[:-1]})\n",
    "fig = px.line(df1, x='Threshold', y=['Precision', 'Recall'],\n",
    "              labels={'value': 'Score'},\n",
    "              line_dash_sequence=['solid', 'dash'],\n",
    "              title='Precision & Recall vs Threshold')\n",
    "\n",
    "fig.update_yaxes(tickvals=[0.1, 0.2, 0.3, 0.4, 0.5, 0.6, 0.7, 0.8, 0.9, 1.0])\n",
    "fig.show()"
   ]
  },
  {
   "cell_type": "code",
   "execution_count": 60,
   "id": "8be91577",
   "metadata": {},
   "outputs": [
    {
     "data": {
      "image/png": "[encoded data removed]",
      "text/plain": [
       "<Figure size 640x480 with 1 Axes>"
      ]
     },
     "metadata": {},
     "output_type": "display_data"
    }
   ],
   "source": [
    "#Podemos visualizar los y_scores pero no nos dice nada, ¡la gráfica si lo hará!\n",
    "#Graficamos la precisión y recall\n",
    "plt.plot(threshold, precisions[:-1],\"b--\", label=\"Precision\")\n",
    "plt.plot(threshold, recalls[:-1],\"g--\", label=\"Recall\")\n",
    "plt.yticks([0.1, 0.2, 0.3, 0.4, 0.5, 0.6, 0.7, 0.8, 0.9, 1.0])\n",
    "plt.grid()\n",
    "plt.show()"
   ]
  },
  {
   "cell_type": "markdown",
   "id": "92e7801d-2378-4178-b631-36ef5720bc65",
   "metadata": {},
   "source": [
    "El umbral te permite conocer qué medida priorizar acorde a tus objetivos. Ya sea que estemos hablando de videos de youtube para niños 🍭 o un sistema de seguridad 🔒."
   ]
  },
  {
   "cell_type": "code",
   "execution_count": 61,
   "id": "b62f43f9",
   "metadata": {},
   "outputs": [
    {
     "data": {
      "text/plain": [
       "24575.640603301497"
      ]
     },
     "execution_count": 61,
     "metadata": {},
     "output_type": "execute_result"
    }
   ],
   "source": [
    "#Supon que ya lo pensaste y querías un umbral  90 \n",
    "umbral_90 = threshold[np.argmax(precisions >= 0.9)]\n",
    "umbral_90"
   ]
  },
  {
   "cell_type": "code",
   "execution_count": 62,
   "id": "108090e5",
   "metadata": {},
   "outputs": [],
   "source": [
    "y_train_90 = (y_scores >= umbral_90)"
   ]
  },
  {
   "cell_type": "code",
   "execution_count": 63,
   "id": "5806f78b",
   "metadata": {},
   "outputs": [
    {
     "data": {
      "text/plain": [
       "(0.9090909090909091, 0.9210526315789473)"
      ]
     },
     "execution_count": 63,
     "metadata": {},
     "output_type": "execute_result"
    }
   ],
   "source": [
    "#Arroja la precisión y recall para un umbral de 90\n",
    "p = precision_score(y_train_y, y_train_90)\n",
    "r = recall_score(y_train_y, y_train_90)\n",
    "p,r"
   ]
  },
  {
   "cell_type": "markdown",
   "id": "890d33dd-25e6-4787-84bc-213b348648d5",
   "metadata": {},
   "source": [
    "***"
   ]
  },
  {
   "cell_type": "markdown",
   "id": "6a2caf78",
   "metadata": {},
   "source": [
    "### <span style=\"color:blue\">6.5 Curva ROC</span>\n"
   ]
  },
  {
   "cell_type": "markdown",
   "id": "c589757e-e8a3-45bc-b264-91a7844e0005",
   "metadata": {},
   "source": [
    "Grafica Recall contra el porcentaje de Falsos Positivos"
   ]
  },
  {
   "cell_type": "code",
   "execution_count": 64,
   "id": "174891b7",
   "metadata": {},
   "outputs": [],
   "source": [
    "#Importar roc_curve\n",
    "from sklearn.metrics import roc_curve"
   ]
  },
  {
   "cell_type": "code",
   "execution_count": 65,
   "id": "3f0ee1c3",
   "metadata": {},
   "outputs": [],
   "source": [
    "fpr, tpr, umbrales = roc_curve(y_train_y, y_scores)"
   ]
  },
  {
   "cell_type": "code",
   "execution_count": 66,
   "id": "5336e616",
   "metadata": {},
   "outputs": [
    {
     "data": {
      "image/png": "[encoded data removed]",
      "text/plain": [
       "<Figure size 640x480 with 1 Axes>"
      ]
     },
     "metadata": {},
     "output_type": "display_data"
    }
   ],
   "source": [
    "#Graficar la curva ROC\n",
    "plt.plot(fpr, tpr, label= \"ROC Curve\")\n",
    "#Poner una cuadrícula\n",
    "plt.plot([0,1],[0,1], \"k--\")\n",
    "plt.xlabel(\"FPR - False Positive Rate\")\n",
    "plt.ylabel(\"TPR - Recall\")\n",
    "plt.grid()\n",
    "plt.show()"
   ]
  },
  {
   "cell_type": "markdown",
   "id": "5e87c17d-a9da-425c-80d3-40d541f3af9c",
   "metadata": {},
   "source": [
    "Un modelo perfecto se asimila a una escuadra entre la curva ROC y la línea punteada porque existe una mayor área bajo la curva"
   ]
  },
  {
   "cell_type": "code",
   "execution_count": 67,
   "id": "cb11a9f2",
   "metadata": {},
   "outputs": [],
   "source": [
    "#Calcular el puntaje de la curva\n",
    "from sklearn.metrics import roc_auc_score"
   ]
  },
  {
   "cell_type": "code",
   "execution_count": 68,
   "id": "af299e4c",
   "metadata": {},
   "outputs": [
    {
     "data": {
      "text/plain": [
       "0.9691416040100251"
      ]
     },
     "execution_count": 68,
     "metadata": {},
     "output_type": "execute_result"
    }
   ],
   "source": [
    "roc_auc_score(y_train_y, y_scores)"
   ]
  },
  {
   "cell_type": "code",
   "execution_count": 69,
   "id": "bd8ce8ec",
   "metadata": {},
   "outputs": [],
   "source": [
    "#Compararlo con el modelo de random forest\n",
    "y_forest = cross_val_predict(rfc, x_train, y_train_y, cv= 3, method=\"predict_proba\")\n",
    "y_scores_forests = y_forest[:,1] #esto es porque solo queremos las probabilidades del medicamento Y"
   ]
  },
  {
   "cell_type": "code",
   "execution_count": 70,
   "id": "e8767282",
   "metadata": {},
   "outputs": [],
   "source": [
    "fpr_forest, tpr_forest, threshold_forest = roc_curve(y_train_y, y_scores_forests)"
   ]
  },
  {
   "cell_type": "code",
   "execution_count": 71,
   "id": "40ed836a",
   "metadata": {},
   "outputs": [
    {
     "data": {
      "image/png": "[encoded data removed]",
      "text/plain": [
       "<Figure size 640x480 with 1 Axes>"
      ]
     },
     "metadata": {},
     "output_type": "display_data"
    }
   ],
   "source": [
    "#Graficar la curva ROC y la predicción de random forest \n",
    "plt.plot(fpr, tpr, label= \"ROC Curve\") # lo comparamos con el GD\n",
    "plt.plot(fpr_forest, tpr_forest, label= \"ROC Curve\")\n",
    "#Poner una cuadrícula\n",
    "plt.plot([0,1],[0,1], \"k--\")\n",
    "plt.xlabel(\"FPR - False Positive Rate\")\n",
    "plt.ylabel(\"TPR - Recall\")\n",
    "plt.grid()\n",
    "plt.show()"
   ]
  },
  {
   "cell_type": "code",
   "execution_count": 72,
   "id": "3da0b336",
   "metadata": {},
   "outputs": [
    {
     "data": {
      "text/plain": [
       "1.0"
      ]
     },
     "execution_count": 72,
     "metadata": {},
     "output_type": "execute_result"
    }
   ],
   "source": [
    "#Calcular el puntaje (área bajo la curva) de random forest  \n",
    "roc_auc_score(y_train_y, y_scores_forests)"
   ]
  },
  {
   "cell_type": "markdown",
   "id": "ed57351c-fef1-43a2-abb8-000bb34d9e60",
   "metadata": {},
   "source": [
    "***"
   ]
  },
  {
   "cell_type": "markdown",
   "id": "869d66e8",
   "metadata": {},
   "source": [
    "## <span style=\"color:green\">7. Clasificadores Multiclase</span>\n"
   ]
  },
  {
   "cell_type": "code",
   "execution_count": 73,
   "id": "f3754467",
   "metadata": {},
   "outputs": [],
   "source": [
    "# Importar SVC=Support Vector Classifier\n",
    "from sklearn.svm import SVC"
   ]
  },
  {
   "cell_type": "code",
   "execution_count": 74,
   "id": "5f9d8f54",
   "metadata": {},
   "outputs": [],
   "source": [
    "svm = SVC()"
   ]
  },
  {
   "cell_type": "code",
   "execution_count": 75,
   "id": "3a865286",
   "metadata": {},
   "outputs": [
    {
     "data": {
      "text/html": [
       "<style>#sk-container-id-3 {color: black;background-color: white;}#sk-container-id-3 pre{padding: 0;}#sk-container-id-3 div.sk-toggleable {background-color: white;}#sk-container-id-3 label.sk-toggleable__label {cursor: pointer;display: block;width: 100%;margin-bottom: 0;padding: 0.3em;box-sizing: border-box;text-align: center;}#sk-container-id-3 label.sk-toggleable__label-arrow:before {content: \"▸\";float: left;margin-right: 0.25em;color: #696969;}#sk-container-id-3 label.sk-toggleable__label-arrow:hover:before {color: black;}#sk-container-id-3 div.sk-estimator:hover label.sk-toggleable__label-arrow:before {color: black;}#sk-container-id-3 div.sk-toggleable__content {max-height: 0;max-width: 0;overflow: hidden;text-align: left;background-color: #f0f8ff;}#sk-container-id-3 div.sk-toggleable__content pre {margin: 0.2em;color: black;border-radius: 0.25em;background-color: #f0f8ff;}#sk-container-id-3 input.sk-toggleable__control:checked~div.sk-toggleable__content {max-height: 200px;max-width: 100%;overflow: auto;}#sk-container-id-3 input.sk-toggleable__control:checked~label.sk-toggleable__label-arrow:before {content: \"▾\";}#sk-container-id-3 div.sk-estimator input.sk-toggleable__control:checked~label.sk-toggleable__label {background-color: #d4ebff;}#sk-container-id-3 div.sk-label input.sk-toggleable__control:checked~label.sk-toggleable__label {background-color: #d4ebff;}#sk-container-id-3 input.sk-hidden--visually {border: 0;clip: rect(1px 1px 1px 1px);clip: rect(1px, 1px, 1px, 1px);height: 1px;margin: -1px;overflow: hidden;padding: 0;position: absolute;width: 1px;}#sk-container-id-3 div.sk-estimator {font-family: monospace;background-color: #f0f8ff;border: 1px dotted black;border-radius: 0.25em;box-sizing: border-box;margin-bottom: 0.5em;}#sk-container-id-3 div.sk-estimator:hover {background-color: #d4ebff;}#sk-container-id-3 div.sk-parallel-item::after {content: \"\";width: 100%;border-bottom: 1px solid gray;flex-grow: 1;}#sk-container-id-3 div.sk-label:hover label.sk-toggleable__label {background-color: #d4ebff;}#sk-container-id-3 div.sk-serial::before {content: \"\";position: absolute;border-left: 1px solid gray;box-sizing: border-box;top: 0;bottom: 0;left: 50%;z-index: 0;}#sk-container-id-3 div.sk-serial {display: flex;flex-direction: column;align-items: center;background-color: white;padding-right: 0.2em;padding-left: 0.2em;position: relative;}#sk-container-id-3 div.sk-item {position: relative;z-index: 1;}#sk-container-id-3 div.sk-parallel {display: flex;align-items: stretch;justify-content: center;background-color: white;position: relative;}#sk-container-id-3 div.sk-item::before, #sk-container-id-3 div.sk-parallel-item::before {content: \"\";position: absolute;border-left: 1px solid gray;box-sizing: border-box;top: 0;bottom: 0;left: 50%;z-index: -1;}#sk-container-id-3 div.sk-parallel-item {display: flex;flex-direction: column;z-index: 1;position: relative;background-color: white;}#sk-container-id-3 div.sk-parallel-item:first-child::after {align-self: flex-end;width: 50%;}#sk-container-id-3 div.sk-parallel-item:last-child::after {align-self: flex-start;width: 50%;}#sk-container-id-3 div.sk-parallel-item:only-child::after {width: 0;}#sk-container-id-3 div.sk-dashed-wrapped {border: 1px dashed gray;margin: 0 0.4em 0.5em 0.4em;box-sizing: border-box;padding-bottom: 0.4em;background-color: white;}#sk-container-id-3 div.sk-label label {font-family: monospace;font-weight: bold;display: inline-block;line-height: 1.2em;}#sk-container-id-3 div.sk-label-container {text-align: center;}#sk-container-id-3 div.sk-container {/* jupyter's `normalize.less` sets `[hidden] { display: none; }` but bootstrap.min.css set `[hidden] { display: none !important; }` so we also need the `!important` here to be able to override the default hidden behavior on the sphinx rendered scikit-learn.org. See: https://github.com/scikit-learn/scikit-learn/issues/21755 */display: inline-block !important;position: relative;}#sk-container-id-3 div.sk-text-repr-fallback {display: none;}</style><div id=\"sk-container-id-3\" class=\"sk-top-container\"><div class=\"sk-text-repr-fallback\"><pre>SVC()</pre><b>In a Jupyter environment, please rerun this cell to show the HTML representation or trust the notebook. <br />On GitHub, the HTML representation is unable to render, please try loading this page with nbviewer.org.</b></div><div class=\"sk-container\" hidden><div class=\"sk-item\"><div class=\"sk-estimator sk-toggleable\"><input class=\"sk-toggleable__control sk-hidden--visually\" id=\"sk-estimator-id-3\" type=\"checkbox\" checked><label for=\"sk-estimator-id-3\" class=\"sk-toggleable__label sk-toggleable__label-arrow\">SVC</label><div class=\"sk-toggleable__content\"><pre>SVC()</pre></div></div></div></div></div>"
      ],
      "text/plain": [
       "SVC()"
      ]
     },
     "execution_count": 75,
     "metadata": {},
     "output_type": "execute_result"
    }
   ],
   "source": [
    "svm.fit(x_train, y_train) #aquí el SVM utiliza el método uno vs uno (TIENE UN COSTO COMPUTACIONAL MAS CARO, A PESAR QUE ES MEJOR CLASIFICADOR QUE EL ONE VS REST)"
   ]
  },
  {
   "cell_type": "code",
   "execution_count": 76,
   "id": "06ca8099",
   "metadata": {},
   "outputs": [
    {
     "name": "stderr",
     "output_type": "stream",
     "text": [
      "c:\\Users\\GGudino\\AppData\\Local\\Programs\\Python\\Python311\\Lib\\site-packages\\sklearn\\base.py:439: UserWarning:\n",
      "\n",
      "X does not have valid feature names, but SVC was fitted with feature names\n",
      "\n"
     ]
    },
    {
     "data": {
      "text/plain": [
       "array([0])"
      ]
     },
     "execution_count": 76,
     "metadata": {},
     "output_type": "execute_result"
    }
   ],
   "source": [
    "#Predecir a un humano aleatorio para ver que todo este funcionando bien \n",
    "svm.predict([x_train.loc[0]])"
   ]
  },
  {
   "cell_type": "code",
   "execution_count": 77,
   "id": "ea8321ef",
   "metadata": {},
   "outputs": [
    {
     "name": "stderr",
     "output_type": "stream",
     "text": [
      "c:\\Users\\GGudino\\AppData\\Local\\Programs\\Python\\Python311\\Lib\\site-packages\\sklearn\\base.py:439: UserWarning:\n",
      "\n",
      "X does not have valid feature names, but SVC was fitted with feature names\n",
      "\n"
     ]
    },
    {
     "data": {
      "text/plain": [
       "array([[ 4.29314545,  1.79128957,  0.76838448, -0.27065817,  3.16462775]])"
      ]
     },
     "execution_count": 77,
     "metadata": {},
     "output_type": "execute_result"
    }
   ],
   "source": [
    "#Utilizar decision_function para observar los puntajes de cada medicina \n",
    "svm.decision_function([x_train.loc[0]]) #Decidirá por el qué tenga mayor puntaje"
   ]
  },
  {
   "cell_type": "code",
   "execution_count": 78,
   "id": "b254626c",
   "metadata": {},
   "outputs": [],
   "source": [
    "#Ahora, utiliza el clasificador one vs rest (todos) \n",
    "from sklearn.multiclass import OneVsRestClassifier"
   ]
  },
  {
   "cell_type": "code",
   "execution_count": 79,
   "id": "6b8f5836",
   "metadata": {},
   "outputs": [],
   "source": [
    "svm = OneVsRestClassifier(SVC()) # usando el algoritmo anterior le indicamos que utilice este método"
   ]
  },
  {
   "cell_type": "code",
   "execution_count": 80,
   "id": "3471c973",
   "metadata": {},
   "outputs": [
    {
     "data": {
      "text/html": [
       "<style>#sk-container-id-4 {color: black;background-color: white;}#sk-container-id-4 pre{padding: 0;}#sk-container-id-4 div.sk-toggleable {background-color: white;}#sk-container-id-4 label.sk-toggleable__label {cursor: pointer;display: block;width: 100%;margin-bottom: 0;padding: 0.3em;box-sizing: border-box;text-align: center;}#sk-container-id-4 label.sk-toggleable__label-arrow:before {content: \"▸\";float: left;margin-right: 0.25em;color: #696969;}#sk-container-id-4 label.sk-toggleable__label-arrow:hover:before {color: black;}#sk-container-id-4 div.sk-estimator:hover label.sk-toggleable__label-arrow:before {color: black;}#sk-container-id-4 div.sk-toggleable__content {max-height: 0;max-width: 0;overflow: hidden;text-align: left;background-color: #f0f8ff;}#sk-container-id-4 div.sk-toggleable__content pre {margin: 0.2em;color: black;border-radius: 0.25em;background-color: #f0f8ff;}#sk-container-id-4 input.sk-toggleable__control:checked~div.sk-toggleable__content {max-height: 200px;max-width: 100%;overflow: auto;}#sk-container-id-4 input.sk-toggleable__control:checked~label.sk-toggleable__label-arrow:before {content: \"▾\";}#sk-container-id-4 div.sk-estimator input.sk-toggleable__control:checked~label.sk-toggleable__label {background-color: #d4ebff;}#sk-container-id-4 div.sk-label input.sk-toggleable__control:checked~label.sk-toggleable__label {background-color: #d4ebff;}#sk-container-id-4 input.sk-hidden--visually {border: 0;clip: rect(1px 1px 1px 1px);clip: rect(1px, 1px, 1px, 1px);height: 1px;margin: -1px;overflow: hidden;padding: 0;position: absolute;width: 1px;}#sk-container-id-4 div.sk-estimator {font-family: monospace;background-color: #f0f8ff;border: 1px dotted black;border-radius: 0.25em;box-sizing: border-box;margin-bottom: 0.5em;}#sk-container-id-4 div.sk-estimator:hover {background-color: #d4ebff;}#sk-container-id-4 div.sk-parallel-item::after {content: \"\";width: 100%;border-bottom: 1px solid gray;flex-grow: 1;}#sk-container-id-4 div.sk-label:hover label.sk-toggleable__label {background-color: #d4ebff;}#sk-container-id-4 div.sk-serial::before {content: \"\";position: absolute;border-left: 1px solid gray;box-sizing: border-box;top: 0;bottom: 0;left: 50%;z-index: 0;}#sk-container-id-4 div.sk-serial {display: flex;flex-direction: column;align-items: center;background-color: white;padding-right: 0.2em;padding-left: 0.2em;position: relative;}#sk-container-id-4 div.sk-item {position: relative;z-index: 1;}#sk-container-id-4 div.sk-parallel {display: flex;align-items: stretch;justify-content: center;background-color: white;position: relative;}#sk-container-id-4 div.sk-item::before, #sk-container-id-4 div.sk-parallel-item::before {content: \"\";position: absolute;border-left: 1px solid gray;box-sizing: border-box;top: 0;bottom: 0;left: 50%;z-index: -1;}#sk-container-id-4 div.sk-parallel-item {display: flex;flex-direction: column;z-index: 1;position: relative;background-color: white;}#sk-container-id-4 div.sk-parallel-item:first-child::after {align-self: flex-end;width: 50%;}#sk-container-id-4 div.sk-parallel-item:last-child::after {align-self: flex-start;width: 50%;}#sk-container-id-4 div.sk-parallel-item:only-child::after {width: 0;}#sk-container-id-4 div.sk-dashed-wrapped {border: 1px dashed gray;margin: 0 0.4em 0.5em 0.4em;box-sizing: border-box;padding-bottom: 0.4em;background-color: white;}#sk-container-id-4 div.sk-label label {font-family: monospace;font-weight: bold;display: inline-block;line-height: 1.2em;}#sk-container-id-4 div.sk-label-container {text-align: center;}#sk-container-id-4 div.sk-container {/* jupyter's `normalize.less` sets `[hidden] { display: none; }` but bootstrap.min.css set `[hidden] { display: none !important; }` so we also need the `!important` here to be able to override the default hidden behavior on the sphinx rendered scikit-learn.org. See: https://github.com/scikit-learn/scikit-learn/issues/21755 */display: inline-block !important;position: relative;}#sk-container-id-4 div.sk-text-repr-fallback {display: none;}</style><div id=\"sk-container-id-4\" class=\"sk-top-container\"><div class=\"sk-text-repr-fallback\"><pre>OneVsRestClassifier(estimator=SVC())</pre><b>In a Jupyter environment, please rerun this cell to show the HTML representation or trust the notebook. <br />On GitHub, the HTML representation is unable to render, please try loading this page with nbviewer.org.</b></div><div class=\"sk-container\" hidden><div class=\"sk-item sk-dashed-wrapped\"><div class=\"sk-label-container\"><div class=\"sk-label sk-toggleable\"><input class=\"sk-toggleable__control sk-hidden--visually\" id=\"sk-estimator-id-4\" type=\"checkbox\" ><label for=\"sk-estimator-id-4\" class=\"sk-toggleable__label sk-toggleable__label-arrow\">OneVsRestClassifier</label><div class=\"sk-toggleable__content\"><pre>OneVsRestClassifier(estimator=SVC())</pre></div></div></div><div class=\"sk-parallel\"><div class=\"sk-parallel-item\"><div class=\"sk-item\"><div class=\"sk-label-container\"><div class=\"sk-label sk-toggleable\"><input class=\"sk-toggleable__control sk-hidden--visually\" id=\"sk-estimator-id-5\" type=\"checkbox\" ><label for=\"sk-estimator-id-5\" class=\"sk-toggleable__label sk-toggleable__label-arrow\">estimator: SVC</label><div class=\"sk-toggleable__content\"><pre>SVC()</pre></div></div></div><div class=\"sk-serial\"><div class=\"sk-item\"><div class=\"sk-estimator sk-toggleable\"><input class=\"sk-toggleable__control sk-hidden--visually\" id=\"sk-estimator-id-6\" type=\"checkbox\" ><label for=\"sk-estimator-id-6\" class=\"sk-toggleable__label sk-toggleable__label-arrow\">SVC</label><div class=\"sk-toggleable__content\"><pre>SVC()</pre></div></div></div></div></div></div></div></div></div></div>"
      ],
      "text/plain": [
       "OneVsRestClassifier(estimator=SVC())"
      ]
     },
     "execution_count": 80,
     "metadata": {},
     "output_type": "execute_result"
    }
   ],
   "source": [
    "#Predecir a un humano ahora con este clasificador\n",
    "svm.fit(x_train, y_train)"
   ]
  },
  {
   "cell_type": "code",
   "execution_count": 81,
   "id": "0977941f",
   "metadata": {},
   "outputs": [
    {
     "name": "stderr",
     "output_type": "stream",
     "text": [
      "c:\\Users\\GGudino\\AppData\\Local\\Programs\\Python\\Python311\\Lib\\site-packages\\sklearn\\base.py:439: UserWarning:\n",
      "\n",
      "X does not have valid feature names, but SVC was fitted with feature names\n",
      "\n",
      "c:\\Users\\GGudino\\AppData\\Local\\Programs\\Python\\Python311\\Lib\\site-packages\\sklearn\\base.py:439: UserWarning:\n",
      "\n",
      "X does not have valid feature names, but SVC was fitted with feature names\n",
      "\n",
      "c:\\Users\\GGudino\\AppData\\Local\\Programs\\Python\\Python311\\Lib\\site-packages\\sklearn\\base.py:439: UserWarning:\n",
      "\n",
      "X does not have valid feature names, but SVC was fitted with feature names\n",
      "\n",
      "c:\\Users\\GGudino\\AppData\\Local\\Programs\\Python\\Python311\\Lib\\site-packages\\sklearn\\base.py:439: UserWarning:\n",
      "\n",
      "X does not have valid feature names, but SVC was fitted with feature names\n",
      "\n",
      "c:\\Users\\GGudino\\AppData\\Local\\Programs\\Python\\Python311\\Lib\\site-packages\\sklearn\\base.py:439: UserWarning:\n",
      "\n",
      "X does not have valid feature names, but SVC was fitted with feature names\n",
      "\n"
     ]
    },
    {
     "data": {
      "text/plain": [
       "array([0])"
      ]
     },
     "execution_count": 81,
     "metadata": {},
     "output_type": "execute_result"
    }
   ],
   "source": [
    "#Utilizar decision_function para observar los puntajes de cada medicina \n",
    "svm.predict([x_train.loc[0]])"
   ]
  },
  {
   "cell_type": "code",
   "execution_count": 82,
   "id": "f62ef031-ec16-45b1-9529-141f2a56fecd",
   "metadata": {},
   "outputs": [
    {
     "name": "stderr",
     "output_type": "stream",
     "text": [
      "c:\\Users\\GGudino\\AppData\\Local\\Programs\\Python\\Python311\\Lib\\site-packages\\sklearn\\base.py:439: UserWarning:\n",
      "\n",
      "X does not have valid feature names, but SVC was fitted with feature names\n",
      "\n",
      "c:\\Users\\GGudino\\AppData\\Local\\Programs\\Python\\Python311\\Lib\\site-packages\\sklearn\\base.py:439: UserWarning:\n",
      "\n",
      "X does not have valid feature names, but SVC was fitted with feature names\n",
      "\n",
      "c:\\Users\\GGudino\\AppData\\Local\\Programs\\Python\\Python311\\Lib\\site-packages\\sklearn\\base.py:439: UserWarning:\n",
      "\n",
      "X does not have valid feature names, but SVC was fitted with feature names\n",
      "\n",
      "c:\\Users\\GGudino\\AppData\\Local\\Programs\\Python\\Python311\\Lib\\site-packages\\sklearn\\base.py:439: UserWarning:\n",
      "\n",
      "X does not have valid feature names, but SVC was fitted with feature names\n",
      "\n",
      "c:\\Users\\GGudino\\AppData\\Local\\Programs\\Python\\Python311\\Lib\\site-packages\\sklearn\\base.py:439: UserWarning:\n",
      "\n",
      "X does not have valid feature names, but SVC was fitted with feature names\n",
      "\n"
     ]
    },
    {
     "data": {
      "text/plain": [
       "array([[ 2.31466773, -1.01816059, -1.01847764, -1.00071976, -1.08034559]])"
      ]
     },
     "execution_count": 82,
     "metadata": {},
     "output_type": "execute_result"
    }
   ],
   "source": [
    "#campararlo con los datos obtenidos de sgd.fit \n",
    "svm.decision_function([x_train.loc[0]])"
   ]
  },
  {
   "cell_type": "code",
   "execution_count": 83,
   "id": "0fa4e002",
   "metadata": {},
   "outputs": [
    {
     "data": {
      "text/html": [
       "<style>#sk-container-id-5 {color: black;background-color: white;}#sk-container-id-5 pre{padding: 0;}#sk-container-id-5 div.sk-toggleable {background-color: white;}#sk-container-id-5 label.sk-toggleable__label {cursor: pointer;display: block;width: 100%;margin-bottom: 0;padding: 0.3em;box-sizing: border-box;text-align: center;}#sk-container-id-5 label.sk-toggleable__label-arrow:before {content: \"▸\";float: left;margin-right: 0.25em;color: #696969;}#sk-container-id-5 label.sk-toggleable__label-arrow:hover:before {color: black;}#sk-container-id-5 div.sk-estimator:hover label.sk-toggleable__label-arrow:before {color: black;}#sk-container-id-5 div.sk-toggleable__content {max-height: 0;max-width: 0;overflow: hidden;text-align: left;background-color: #f0f8ff;}#sk-container-id-5 div.sk-toggleable__content pre {margin: 0.2em;color: black;border-radius: 0.25em;background-color: #f0f8ff;}#sk-container-id-5 input.sk-toggleable__control:checked~div.sk-toggleable__content {max-height: 200px;max-width: 100%;overflow: auto;}#sk-container-id-5 input.sk-toggleable__control:checked~label.sk-toggleable__label-arrow:before {content: \"▾\";}#sk-container-id-5 div.sk-estimator input.sk-toggleable__control:checked~label.sk-toggleable__label {background-color: #d4ebff;}#sk-container-id-5 div.sk-label input.sk-toggleable__control:checked~label.sk-toggleable__label {background-color: #d4ebff;}#sk-container-id-5 input.sk-hidden--visually {border: 0;clip: rect(1px 1px 1px 1px);clip: rect(1px, 1px, 1px, 1px);height: 1px;margin: -1px;overflow: hidden;padding: 0;position: absolute;width: 1px;}#sk-container-id-5 div.sk-estimator {font-family: monospace;background-color: #f0f8ff;border: 1px dotted black;border-radius: 0.25em;box-sizing: border-box;margin-bottom: 0.5em;}#sk-container-id-5 div.sk-estimator:hover {background-color: #d4ebff;}#sk-container-id-5 div.sk-parallel-item::after {content: \"\";width: 100%;border-bottom: 1px solid gray;flex-grow: 1;}#sk-container-id-5 div.sk-label:hover label.sk-toggleable__label {background-color: #d4ebff;}#sk-container-id-5 div.sk-serial::before {content: \"\";position: absolute;border-left: 1px solid gray;box-sizing: border-box;top: 0;bottom: 0;left: 50%;z-index: 0;}#sk-container-id-5 div.sk-serial {display: flex;flex-direction: column;align-items: center;background-color: white;padding-right: 0.2em;padding-left: 0.2em;position: relative;}#sk-container-id-5 div.sk-item {position: relative;z-index: 1;}#sk-container-id-5 div.sk-parallel {display: flex;align-items: stretch;justify-content: center;background-color: white;position: relative;}#sk-container-id-5 div.sk-item::before, #sk-container-id-5 div.sk-parallel-item::before {content: \"\";position: absolute;border-left: 1px solid gray;box-sizing: border-box;top: 0;bottom: 0;left: 50%;z-index: -1;}#sk-container-id-5 div.sk-parallel-item {display: flex;flex-direction: column;z-index: 1;position: relative;background-color: white;}#sk-container-id-5 div.sk-parallel-item:first-child::after {align-self: flex-end;width: 50%;}#sk-container-id-5 div.sk-parallel-item:last-child::after {align-self: flex-start;width: 50%;}#sk-container-id-5 div.sk-parallel-item:only-child::after {width: 0;}#sk-container-id-5 div.sk-dashed-wrapped {border: 1px dashed gray;margin: 0 0.4em 0.5em 0.4em;box-sizing: border-box;padding-bottom: 0.4em;background-color: white;}#sk-container-id-5 div.sk-label label {font-family: monospace;font-weight: bold;display: inline-block;line-height: 1.2em;}#sk-container-id-5 div.sk-label-container {text-align: center;}#sk-container-id-5 div.sk-container {/* jupyter's `normalize.less` sets `[hidden] { display: none; }` but bootstrap.min.css set `[hidden] { display: none !important; }` so we also need the `!important` here to be able to override the default hidden behavior on the sphinx rendered scikit-learn.org. See: https://github.com/scikit-learn/scikit-learn/issues/21755 */display: inline-block !important;position: relative;}#sk-container-id-5 div.sk-text-repr-fallback {display: none;}</style><div id=\"sk-container-id-5\" class=\"sk-top-container\"><div class=\"sk-text-repr-fallback\"><pre>SGDClassifier(random_state=42)</pre><b>In a Jupyter environment, please rerun this cell to show the HTML representation or trust the notebook. <br />On GitHub, the HTML representation is unable to render, please try loading this page with nbviewer.org.</b></div><div class=\"sk-container\" hidden><div class=\"sk-item\"><div class=\"sk-estimator sk-toggleable\"><input class=\"sk-toggleable__control sk-hidden--visually\" id=\"sk-estimator-id-7\" type=\"checkbox\" checked><label for=\"sk-estimator-id-7\" class=\"sk-toggleable__label sk-toggleable__label-arrow\">SGDClassifier</label><div class=\"sk-toggleable__content\"><pre>SGDClassifier(random_state=42)</pre></div></div></div></div></div>"
      ],
      "text/plain": [
       "SGDClassifier(random_state=42)"
      ]
     },
     "execution_count": 83,
     "metadata": {},
     "output_type": "execute_result"
    }
   ],
   "source": [
    "sgd.fit(x_train, y_train)"
   ]
  },
  {
   "cell_type": "code",
   "execution_count": 84,
   "id": "881addcf",
   "metadata": {},
   "outputs": [
    {
     "name": "stderr",
     "output_type": "stream",
     "text": [
      "c:\\Users\\GGudino\\AppData\\Local\\Programs\\Python\\Python311\\Lib\\site-packages\\sklearn\\base.py:439: UserWarning:\n",
      "\n",
      "X does not have valid feature names, but SGDClassifier was fitted with feature names\n",
      "\n"
     ]
    },
    {
     "data": {
      "text/plain": [
       "array([0])"
      ]
     },
     "execution_count": 84,
     "metadata": {},
     "output_type": "execute_result"
    }
   ],
   "source": [
    "sgd.predict([x_train.loc[0]])"
   ]
  },
  {
   "cell_type": "code",
   "execution_count": 85,
   "id": "2f939e6c",
   "metadata": {},
   "outputs": [
    {
     "name": "stderr",
     "output_type": "stream",
     "text": [
      "c:\\Users\\GGudino\\AppData\\Local\\Programs\\Python\\Python311\\Lib\\site-packages\\sklearn\\base.py:439: UserWarning:\n",
      "\n",
      "X does not have valid feature names, but SGDClassifier was fitted with feature names\n",
      "\n"
     ]
    },
    {
     "data": {
      "text/plain": [
       "array([[ 34119.59186544, -20230.79561182,  -7882.9384719 ,\n",
       "        -11565.273663  ,  -8572.95224131]])"
      ]
     },
     "execution_count": 85,
     "metadata": {},
     "output_type": "execute_result"
    }
   ],
   "source": [
    "sgd.decision_function([x_train.loc[0]])"
   ]
  },
  {
   "cell_type": "markdown",
   "id": "01d14327-bb72-4e3d-8dde-e383892136b4",
   "metadata": {},
   "source": [
    "***"
   ]
  },
  {
   "cell_type": "markdown",
   "id": "db247461",
   "metadata": {},
   "source": [
    "## <span style=\"color:green\">8. Analizar Errores</span>"
   ]
  },
  {
   "cell_type": "code",
   "execution_count": 86,
   "id": "2f184f37-4640-4733-8c54-911f7c99ef2f",
   "metadata": {},
   "outputs": [
    {
     "data": {
      "text/html": [
       "<style>#sk-container-id-6 {color: black;background-color: white;}#sk-container-id-6 pre{padding: 0;}#sk-container-id-6 div.sk-toggleable {background-color: white;}#sk-container-id-6 label.sk-toggleable__label {cursor: pointer;display: block;width: 100%;margin-bottom: 0;padding: 0.3em;box-sizing: border-box;text-align: center;}#sk-container-id-6 label.sk-toggleable__label-arrow:before {content: \"▸\";float: left;margin-right: 0.25em;color: #696969;}#sk-container-id-6 label.sk-toggleable__label-arrow:hover:before {color: black;}#sk-container-id-6 div.sk-estimator:hover label.sk-toggleable__label-arrow:before {color: black;}#sk-container-id-6 div.sk-toggleable__content {max-height: 0;max-width: 0;overflow: hidden;text-align: left;background-color: #f0f8ff;}#sk-container-id-6 div.sk-toggleable__content pre {margin: 0.2em;color: black;border-radius: 0.25em;background-color: #f0f8ff;}#sk-container-id-6 input.sk-toggleable__control:checked~div.sk-toggleable__content {max-height: 200px;max-width: 100%;overflow: auto;}#sk-container-id-6 input.sk-toggleable__control:checked~label.sk-toggleable__label-arrow:before {content: \"▾\";}#sk-container-id-6 div.sk-estimator input.sk-toggleable__control:checked~label.sk-toggleable__label {background-color: #d4ebff;}#sk-container-id-6 div.sk-label input.sk-toggleable__control:checked~label.sk-toggleable__label {background-color: #d4ebff;}#sk-container-id-6 input.sk-hidden--visually {border: 0;clip: rect(1px 1px 1px 1px);clip: rect(1px, 1px, 1px, 1px);height: 1px;margin: -1px;overflow: hidden;padding: 0;position: absolute;width: 1px;}#sk-container-id-6 div.sk-estimator {font-family: monospace;background-color: #f0f8ff;border: 1px dotted black;border-radius: 0.25em;box-sizing: border-box;margin-bottom: 0.5em;}#sk-container-id-6 div.sk-estimator:hover {background-color: #d4ebff;}#sk-container-id-6 div.sk-parallel-item::after {content: \"\";width: 100%;border-bottom: 1px solid gray;flex-grow: 1;}#sk-container-id-6 div.sk-label:hover label.sk-toggleable__label {background-color: #d4ebff;}#sk-container-id-6 div.sk-serial::before {content: \"\";position: absolute;border-left: 1px solid gray;box-sizing: border-box;top: 0;bottom: 0;left: 50%;z-index: 0;}#sk-container-id-6 div.sk-serial {display: flex;flex-direction: column;align-items: center;background-color: white;padding-right: 0.2em;padding-left: 0.2em;position: relative;}#sk-container-id-6 div.sk-item {position: relative;z-index: 1;}#sk-container-id-6 div.sk-parallel {display: flex;align-items: stretch;justify-content: center;background-color: white;position: relative;}#sk-container-id-6 div.sk-item::before, #sk-container-id-6 div.sk-parallel-item::before {content: \"\";position: absolute;border-left: 1px solid gray;box-sizing: border-box;top: 0;bottom: 0;left: 50%;z-index: -1;}#sk-container-id-6 div.sk-parallel-item {display: flex;flex-direction: column;z-index: 1;position: relative;background-color: white;}#sk-container-id-6 div.sk-parallel-item:first-child::after {align-self: flex-end;width: 50%;}#sk-container-id-6 div.sk-parallel-item:last-child::after {align-self: flex-start;width: 50%;}#sk-container-id-6 div.sk-parallel-item:only-child::after {width: 0;}#sk-container-id-6 div.sk-dashed-wrapped {border: 1px dashed gray;margin: 0 0.4em 0.5em 0.4em;box-sizing: border-box;padding-bottom: 0.4em;background-color: white;}#sk-container-id-6 div.sk-label label {font-family: monospace;font-weight: bold;display: inline-block;line-height: 1.2em;}#sk-container-id-6 div.sk-label-container {text-align: center;}#sk-container-id-6 div.sk-container {/* jupyter's `normalize.less` sets `[hidden] { display: none; }` but bootstrap.min.css set `[hidden] { display: none !important; }` so we also need the `!important` here to be able to override the default hidden behavior on the sphinx rendered scikit-learn.org. See: https://github.com/scikit-learn/scikit-learn/issues/21755 */display: inline-block !important;position: relative;}#sk-container-id-6 div.sk-text-repr-fallback {display: none;}</style><div id=\"sk-container-id-6\" class=\"sk-top-container\"><div class=\"sk-text-repr-fallback\"><pre>RandomForestClassifier(random_state=42)</pre><b>In a Jupyter environment, please rerun this cell to show the HTML representation or trust the notebook. <br />On GitHub, the HTML representation is unable to render, please try loading this page with nbviewer.org.</b></div><div class=\"sk-container\" hidden><div class=\"sk-item\"><div class=\"sk-estimator sk-toggleable\"><input class=\"sk-toggleable__control sk-hidden--visually\" id=\"sk-estimator-id-8\" type=\"checkbox\" checked><label for=\"sk-estimator-id-8\" class=\"sk-toggleable__label sk-toggleable__label-arrow\">RandomForestClassifier</label><div class=\"sk-toggleable__content\"><pre>RandomForestClassifier(random_state=42)</pre></div></div></div></div></div>"
      ],
      "text/plain": [
       "RandomForestClassifier(random_state=42)"
      ]
     },
     "execution_count": 86,
     "metadata": {},
     "output_type": "execute_result"
    }
   ],
   "source": [
    "#Hacer un clasificador de random forest\n",
    "rfc.fit(x_train, y_train)"
   ]
  },
  {
   "cell_type": "code",
   "execution_count": 87,
   "id": "fb8f5f40",
   "metadata": {},
   "outputs": [],
   "source": [
    "y_train_pred = cross_val_predict(rfc, x_train, y_train, cv=3)"
   ]
  },
  {
   "cell_type": "code",
   "execution_count": 88,
   "id": "d4a500a6",
   "metadata": {},
   "outputs": [],
   "source": [
    "#Utilizar la matriz de confusión \n",
    "conf_mz = confusion_matrix(y_train, y_train_pred)"
   ]
  },
  {
   "cell_type": "code",
   "execution_count": 89,
   "id": "f287b612",
   "metadata": {},
   "outputs": [
    {
     "data": {
      "text/plain": [
       "array([[75,  0,  0,  1,  0],\n",
       "       [ 0, 17,  0,  0,  0],\n",
       "       [ 0,  1, 12,  0,  0],\n",
       "       [ 0,  0,  0,  7,  4],\n",
       "       [ 0,  0,  0,  0, 43]], dtype=int64)"
      ]
     },
     "execution_count": 89,
     "metadata": {},
     "output_type": "execute_result"
    }
   ],
   "source": [
    "conf_mz"
   ]
  },
  {
   "cell_type": "code",
   "execution_count": 92,
   "id": "c645771a",
   "metadata": {},
   "outputs": [],
   "source": [
    "y_test_pred = rfc.predict(x_test)"
   ]
  },
  {
   "cell_type": "code",
   "execution_count": 93,
   "id": "c73d84b4",
   "metadata": {},
   "outputs": [
    {
     "data": {
      "text/plain": [
       "array([[15,  0,  0,  0,  0],\n",
       "       [ 0,  6,  0,  0,  0],\n",
       "       [ 0,  0,  3,  0,  0],\n",
       "       [ 0,  0,  0,  5,  0],\n",
       "       [ 0,  0,  0,  0, 11]], dtype=int64)"
      ]
     },
     "execution_count": 93,
     "metadata": {},
     "output_type": "execute_result"
    }
   ],
   "source": [
    "conf_mz_test = confusion_matrix(y_test, y_test_pred)\n",
    "conf_mz_test"
   ]
  },
  {
   "cell_type": "code",
   "execution_count": 95,
   "id": "3489af35-b3f2-4001-9e2f-67b5696c44f7",
   "metadata": {},
   "outputs": [
    {
     "data": {
      "text/plain": [
       "array([[61, 15,  0,  0,  0],\n",
       "       [ 5, 10,  0,  0,  2],\n",
       "       [ 3,  5,  1,  0,  4],\n",
       "       [ 4,  5,  0,  0,  2],\n",
       "       [16, 11,  1,  0, 15]], dtype=int64)"
      ]
     },
     "execution_count": 95,
     "metadata": {},
     "output_type": "execute_result"
    }
   ],
   "source": [
    "#utilizar ahora SGD\n",
    "y_train_pred = cross_val_predict(sgd, x_train, y_train, cv=3)\n",
    "conf_mz = confusion_matrix(y_train, y_train_pred)\n",
    "conf_mz"
   ]
  },
  {
   "cell_type": "code",
   "execution_count": 96,
   "id": "842b6d64",
   "metadata": {},
   "outputs": [
    {
     "data": {
      "text/plain": [
       "array([[14,  0,  1,  0,  0],\n",
       "       [ 2,  0,  4,  0,  0],\n",
       "       [ 0,  0,  3,  0,  0],\n",
       "       [ 1,  0,  2,  0,  2],\n",
       "       [ 2,  0,  5,  0,  4]], dtype=int64)"
      ]
     },
     "execution_count": 96,
     "metadata": {},
     "output_type": "execute_result"
    }
   ],
   "source": [
    "y_test_pred = sgd.predict(x_test)\n",
    "conf_mz_test = confusion_matrix(y_test, y_test_pred)\n",
    "conf_mz_test"
   ]
  }
 ],
 "metadata": {
  "kernelspec": {
   "display_name": "Python 3 (ipykernel)",
   "language": "python",
   "name": "python3"
  },
  "language_info": {
   "codemirror_mode": {
    "name": "ipython",
    "version": 3
   },
   "file_extension": ".py",
   "mimetype": "text/x-python",
   "name": "python",
   "nbconvert_exporter": "python",
   "pygments_lexer": "ipython3",
   "version": "3.11.3"
  }
 },
 "nbformat": 4,
 "nbformat_minor": 5
}
